{
  "cells": [
    {
      "cell_type": "markdown",
      "metadata": {
        "id": "tECSGtzhrIGW"
      },
      "source": [
        "# Module 6. Labs regression analysis\n",
        "\n",
        "## Exercise 1: Relation between heart weight and body weight in Cats\n",
        "\n",
        "### Part 1\n",
        "\n",
        "Perform a linear regression analysis on the variables body weight (`Bwt`, dependent variable) and heart weight (`Hwt`, independent variabele).\n",
        "\n",
        "\n",
        "1. Import the dataset `Cats.csv`.\n"
      ]
    },
    {
      "cell_type": "code",
      "execution_count": null,
      "metadata": {
        "id": "yH8_ZwQgrIGb"
      },
      "outputs": [],
      "source": [
        "# Package imports\n",
        "import numpy as np                                  # \"Scientific computing\"\n",
        "import scipy.stats as stats                         # Statistical tests\n",
        "\n",
        "import pandas as pd                                 # Dataframe\n",
        "import matplotlib.pyplot as plt                     # Basic visualisation\n",
        "from statsmodels.graphics.mosaicplot import mosaic  # Mosaic plot\n",
        "import seaborn as sns                               # Advanced dataviz\n",
        "from sklearn.linear_model import LinearRegression"
      ]
    },
    {
      "cell_type": "code",
      "source": [
        "from google.colab import drive\n",
        "drive.mount('/content/drive/')"
      ],
      "metadata": {
        "id": "FopVq5VttTQ4",
        "outputId": "41f41abb-1035-4216-befa-e045fb69b67c",
        "colab": {
          "base_uri": "https://localhost:8080/"
        }
      },
      "execution_count": null,
      "outputs": [
        {
          "output_type": "stream",
          "name": "stdout",
          "text": [
            "Drive already mounted at /content/drive/; to attempt to forcibly remount, call drive.mount(\"/content/drive/\", force_remount=True).\n"
          ]
        }
      ]
    },
    {
      "cell_type": "code",
      "source": [
        "cats = pd.read_csv('/content/drive/MyDrive/DS/data/Cats.csv')\n",
        "# Show the first few records of the Data Frame\n",
        "cats.head()"
      ],
      "metadata": {
        "id": "iAU0JvJjtXrv",
        "outputId": "ee5b4d87-8410-4276-e111-b8191a1579be",
        "colab": {
          "base_uri": "https://localhost:8080/",
          "height": 206
        }
      },
      "execution_count": null,
      "outputs": [
        {
          "output_type": "execute_result",
          "data": {
            "text/plain": [
              "   ID Sex  Hwt  Bwt\n",
              "0   1   F  2.0  7.0\n",
              "1   2   F  2.0  7.4\n",
              "2   3   F  2.0  9.5\n",
              "3   4   F  2.1  7.2\n",
              "4   5   F  2.1  7.3"
            ],
            "text/html": [
              "\n",
              "  <div id=\"df-7d407b8e-2a71-4f12-adeb-3a2d6169f1fc\">\n",
              "    <div class=\"colab-df-container\">\n",
              "      <div>\n",
              "<style scoped>\n",
              "    .dataframe tbody tr th:only-of-type {\n",
              "        vertical-align: middle;\n",
              "    }\n",
              "\n",
              "    .dataframe tbody tr th {\n",
              "        vertical-align: top;\n",
              "    }\n",
              "\n",
              "    .dataframe thead th {\n",
              "        text-align: right;\n",
              "    }\n",
              "</style>\n",
              "<table border=\"1\" class=\"dataframe\">\n",
              "  <thead>\n",
              "    <tr style=\"text-align: right;\">\n",
              "      <th></th>\n",
              "      <th>ID</th>\n",
              "      <th>Sex</th>\n",
              "      <th>Hwt</th>\n",
              "      <th>Bwt</th>\n",
              "    </tr>\n",
              "  </thead>\n",
              "  <tbody>\n",
              "    <tr>\n",
              "      <th>0</th>\n",
              "      <td>1</td>\n",
              "      <td>F</td>\n",
              "      <td>2.0</td>\n",
              "      <td>7.0</td>\n",
              "    </tr>\n",
              "    <tr>\n",
              "      <th>1</th>\n",
              "      <td>2</td>\n",
              "      <td>F</td>\n",
              "      <td>2.0</td>\n",
              "      <td>7.4</td>\n",
              "    </tr>\n",
              "    <tr>\n",
              "      <th>2</th>\n",
              "      <td>3</td>\n",
              "      <td>F</td>\n",
              "      <td>2.0</td>\n",
              "      <td>9.5</td>\n",
              "    </tr>\n",
              "    <tr>\n",
              "      <th>3</th>\n",
              "      <td>4</td>\n",
              "      <td>F</td>\n",
              "      <td>2.1</td>\n",
              "      <td>7.2</td>\n",
              "    </tr>\n",
              "    <tr>\n",
              "      <th>4</th>\n",
              "      <td>5</td>\n",
              "      <td>F</td>\n",
              "      <td>2.1</td>\n",
              "      <td>7.3</td>\n",
              "    </tr>\n",
              "  </tbody>\n",
              "</table>\n",
              "</div>\n",
              "      <button class=\"colab-df-convert\" onclick=\"convertToInteractive('df-7d407b8e-2a71-4f12-adeb-3a2d6169f1fc')\"\n",
              "              title=\"Convert this dataframe to an interactive table.\"\n",
              "              style=\"display:none;\">\n",
              "        \n",
              "  <svg xmlns=\"http://www.w3.org/2000/svg\" height=\"24px\"viewBox=\"0 0 24 24\"\n",
              "       width=\"24px\">\n",
              "    <path d=\"M0 0h24v24H0V0z\" fill=\"none\"/>\n",
              "    <path d=\"M18.56 5.44l.94 2.06.94-2.06 2.06-.94-2.06-.94-.94-2.06-.94 2.06-2.06.94zm-11 1L8.5 8.5l.94-2.06 2.06-.94-2.06-.94L8.5 2.5l-.94 2.06-2.06.94zm10 10l.94 2.06.94-2.06 2.06-.94-2.06-.94-.94-2.06-.94 2.06-2.06.94z\"/><path d=\"M17.41 7.96l-1.37-1.37c-.4-.4-.92-.59-1.43-.59-.52 0-1.04.2-1.43.59L10.3 9.45l-7.72 7.72c-.78.78-.78 2.05 0 2.83L4 21.41c.39.39.9.59 1.41.59.51 0 1.02-.2 1.41-.59l7.78-7.78 2.81-2.81c.8-.78.8-2.07 0-2.86zM5.41 20L4 18.59l7.72-7.72 1.47 1.35L5.41 20z\"/>\n",
              "  </svg>\n",
              "      </button>\n",
              "      \n",
              "  <style>\n",
              "    .colab-df-container {\n",
              "      display:flex;\n",
              "      flex-wrap:wrap;\n",
              "      gap: 12px;\n",
              "    }\n",
              "\n",
              "    .colab-df-convert {\n",
              "      background-color: #E8F0FE;\n",
              "      border: none;\n",
              "      border-radius: 50%;\n",
              "      cursor: pointer;\n",
              "      display: none;\n",
              "      fill: #1967D2;\n",
              "      height: 32px;\n",
              "      padding: 0 0 0 0;\n",
              "      width: 32px;\n",
              "    }\n",
              "\n",
              "    .colab-df-convert:hover {\n",
              "      background-color: #E2EBFA;\n",
              "      box-shadow: 0px 1px 2px rgba(60, 64, 67, 0.3), 0px 1px 3px 1px rgba(60, 64, 67, 0.15);\n",
              "      fill: #174EA6;\n",
              "    }\n",
              "\n",
              "    [theme=dark] .colab-df-convert {\n",
              "      background-color: #3B4455;\n",
              "      fill: #D2E3FC;\n",
              "    }\n",
              "\n",
              "    [theme=dark] .colab-df-convert:hover {\n",
              "      background-color: #434B5C;\n",
              "      box-shadow: 0px 1px 3px 1px rgba(0, 0, 0, 0.15);\n",
              "      filter: drop-shadow(0px 1px 2px rgba(0, 0, 0, 0.3));\n",
              "      fill: #FFFFFF;\n",
              "    }\n",
              "  </style>\n",
              "\n",
              "      <script>\n",
              "        const buttonEl =\n",
              "          document.querySelector('#df-7d407b8e-2a71-4f12-adeb-3a2d6169f1fc button.colab-df-convert');\n",
              "        buttonEl.style.display =\n",
              "          google.colab.kernel.accessAllowed ? 'block' : 'none';\n",
              "\n",
              "        async function convertToInteractive(key) {\n",
              "          const element = document.querySelector('#df-7d407b8e-2a71-4f12-adeb-3a2d6169f1fc');\n",
              "          const dataTable =\n",
              "            await google.colab.kernel.invokeFunction('convertToInteractive',\n",
              "                                                     [key], {});\n",
              "          if (!dataTable) return;\n",
              "\n",
              "          const docLinkHtml = 'Like what you see? Visit the ' +\n",
              "            '<a target=\"_blank\" href=https://colab.research.google.com/notebooks/data_table.ipynb>data table notebook</a>'\n",
              "            + ' to learn more about interactive tables.';\n",
              "          element.innerHTML = '';\n",
              "          dataTable['output_type'] = 'display_data';\n",
              "          await google.colab.output.renderOutput(dataTable, element);\n",
              "          const docLink = document.createElement('div');\n",
              "          docLink.innerHTML = docLinkHtml;\n",
              "          element.appendChild(docLink);\n",
              "        }\n",
              "      </script>\n",
              "    </div>\n",
              "  </div>\n",
              "  "
            ]
          },
          "metadata": {},
          "execution_count": 152
        }
      ]
    },
    {
      "cell_type": "markdown",
      "source": [
        "2. Draw a scatter plot of both variables.\n"
      ],
      "metadata": {
        "id": "n8eVIjBksI7r"
      }
    },
    {
      "cell_type": "code",
      "source": [
        ""
      ],
      "metadata": {
        "id": "csfXFlSgsVAn"
      },
      "execution_count": null,
      "outputs": []
    },
    {
      "cell_type": "markdown",
      "source": [
        "3. Calculate and draw the regression line.\n"
      ],
      "metadata": {
        "id": "6k3BG51TsKx3"
      }
    },
    {
      "cell_type": "code",
      "source": [
        ""
      ],
      "metadata": {
        "id": "ae3BfYcZsVCR"
      },
      "execution_count": null,
      "outputs": []
    },
    {
      "cell_type": "code",
      "source": [
        ""
      ],
      "metadata": {
        "id": "TihMNt78uEVY"
      },
      "execution_count": null,
      "outputs": []
    },
    {
      "cell_type": "markdown",
      "source": [
        "4. Calculate the correlation coefficient and the coefficient of determination."
      ],
      "metadata": {
        "id": "N_nuhta5sOPW"
      }
    },
    {
      "cell_type": "code",
      "source": [
        ""
      ],
      "metadata": {
        "id": "FbIiTIhbsWqw"
      },
      "execution_count": null,
      "outputs": []
    },
    {
      "cell_type": "markdown",
      "source": [
        "5. Interpret the results from the previous steps."
      ],
      "metadata": {
        "id": "lxmsAufqsOQw"
      }
    },
    {
      "cell_type": "code",
      "source": [
        ""
      ],
      "metadata": {
        "id": "mDifXZugsYVH"
      },
      "execution_count": null,
      "outputs": []
    },
    {
      "cell_type": "markdown",
      "metadata": {
        "id": "4Bj5nu1UrIGc"
      },
      "source": [
        "### Part 2\n",
        "\n",
        "1. Perform a linear regression analysis on the variables body weight (`Bwt`) and heart weight (`Hwt`), but this time **subdivided by gender** (`Sex`). Use the same dataset (`Cats.csv`).\n"
      ]
    },
    {
      "cell_type": "code",
      "source": [
        ""
      ],
      "metadata": {
        "id": "DKtYHKgBx1uD"
      },
      "execution_count": null,
      "outputs": []
    },
    {
      "cell_type": "markdown",
      "source": [
        "2. Draw a scatter plot of both variables for each gender.\n"
      ],
      "metadata": {
        "id": "7-ADXQwBxWj6"
      }
    },
    {
      "cell_type": "code",
      "source": [
        ""
      ],
      "metadata": {
        "id": "A7yLmAG-x2cI"
      },
      "execution_count": null,
      "outputs": []
    },
    {
      "cell_type": "markdown",
      "source": [
        "3. Calculate and draw the regression line.\n"
      ],
      "metadata": {
        "id": "YQMfLT1PxWsj"
      }
    },
    {
      "cell_type": "code",
      "source": [
        ""
      ],
      "metadata": {
        "id": "TfoIC24Lx3C5"
      },
      "execution_count": null,
      "outputs": []
    },
    {
      "cell_type": "code",
      "source": [
        ""
      ],
      "metadata": {
        "id": "CVXhb7jIyMkh",
        "outputId": "1d840a9f-3f01-4540-eaa4-9fd7028ff1a1",
        "colab": {
          "base_uri": "https://localhost:8080/"
        }
      },
      "execution_count": null,
      "outputs": [
        {
          "output_type": "stream",
          "name": "stdout",
          "text": [
            "Regression line: ŷ = -1.1768252533094827 + 4.309818875119161 x\n"
          ]
        }
      ]
    },
    {
      "cell_type": "markdown",
      "source": [
        "4. Calculate the correlation coefficient and the coefficient of determination.\n"
      ],
      "metadata": {
        "id": "4inevzgYxWxd"
      }
    },
    {
      "cell_type": "code",
      "source": [
        ""
      ],
      "metadata": {
        "id": "AHrHbz__x3oY"
      },
      "execution_count": null,
      "outputs": []
    },
    {
      "cell_type": "markdown",
      "source": [
        "5. Interpret the results from the previous steps."
      ],
      "metadata": {
        "id": "fARSjn9sxW0y"
      }
    },
    {
      "cell_type": "code",
      "execution_count": null,
      "metadata": {
        "id": "Lsmyt9morIGd"
      },
      "outputs": [],
      "source": [
        ""
      ]
    },
    {
      "cell_type": "markdown",
      "metadata": {
        "id": "-1EydhLVrIGe"
      },
      "source": [
        "### Answers\n",
        "\n",
        "| Selection |  $\\beta_0$ | $\\beta_1$ |       $R$ |     $R^2$ |\n",
        "| :-------- | ---------: | --------: | --------: | --------: |\n",
        "| All       | -0.3510784 | 4.0317575 | 0.8041348 | 0.6466328 |\n",
        "| Male      | -1.1768253 | 4.3098189 | 0.7930443 | 0.6289193 |\n",
        "| Female    |  2.9813124 |  2.636414 | 0.5320497 | 0.2830768 |\n"
      ]
    },
    {
      "cell_type": "markdown",
      "source": [
        "## Exercise 2: Vlaamse land en tuinbouwbedrijven\n",
        "\n",
        "1. Use the dataset Landbouw Vlaanderen. The file contains data about farms in Vlaanderen\n",
        "\n",
        "Source: Departement Landbouw en Visserij op basis StatBel"
      ],
      "metadata": {
        "id": "_dV0yWc00mRa"
      }
    },
    {
      "cell_type": "code",
      "source": [
        "landbouw = pd.read_csv('/content/drive/MyDrive/DS/data/Landbouw Vlaanderen.csv', delimiter = \";\")\n",
        "# Show the first few records of the Data Frame\n",
        "landbouw.head()"
      ],
      "metadata": {
        "colab": {
          "base_uri": "https://localhost:8080/",
          "height": 206
        },
        "id": "4knRPvnY62vR",
        "outputId": "23e4e63e-b50d-4725-a4ac-25a0e6427bae"
      },
      "execution_count": null,
      "outputs": [
        {
          "output_type": "execute_result",
          "data": {
            "text/plain": [
              "   jaar  aantal land en tuinbouwbedrijven  \\\n",
              "0  1980                             75706   \n",
              "1  1981                             73292   \n",
              "2  1982                             71255   \n",
              "3  1983                             69807   \n",
              "4  1984                             68083   \n",
              "\n",
              "  gemiddelde oppervlakte per bedrijf (ha)  \n",
              "0                                    8,38  \n",
              "1                                    8,58  \n",
              "2                                    8,79  \n",
              "3                                    8,94  \n",
              "4                                    9,15  "
            ],
            "text/html": [
              "\n",
              "  <div id=\"df-1ddb6587-13d4-4fd8-aaa2-a10cbb2fec48\">\n",
              "    <div class=\"colab-df-container\">\n",
              "      <div>\n",
              "<style scoped>\n",
              "    .dataframe tbody tr th:only-of-type {\n",
              "        vertical-align: middle;\n",
              "    }\n",
              "\n",
              "    .dataframe tbody tr th {\n",
              "        vertical-align: top;\n",
              "    }\n",
              "\n",
              "    .dataframe thead th {\n",
              "        text-align: right;\n",
              "    }\n",
              "</style>\n",
              "<table border=\"1\" class=\"dataframe\">\n",
              "  <thead>\n",
              "    <tr style=\"text-align: right;\">\n",
              "      <th></th>\n",
              "      <th>jaar</th>\n",
              "      <th>aantal land en tuinbouwbedrijven</th>\n",
              "      <th>gemiddelde oppervlakte per bedrijf (ha)</th>\n",
              "    </tr>\n",
              "  </thead>\n",
              "  <tbody>\n",
              "    <tr>\n",
              "      <th>0</th>\n",
              "      <td>1980</td>\n",
              "      <td>75706</td>\n",
              "      <td>8,38</td>\n",
              "    </tr>\n",
              "    <tr>\n",
              "      <th>1</th>\n",
              "      <td>1981</td>\n",
              "      <td>73292</td>\n",
              "      <td>8,58</td>\n",
              "    </tr>\n",
              "    <tr>\n",
              "      <th>2</th>\n",
              "      <td>1982</td>\n",
              "      <td>71255</td>\n",
              "      <td>8,79</td>\n",
              "    </tr>\n",
              "    <tr>\n",
              "      <th>3</th>\n",
              "      <td>1983</td>\n",
              "      <td>69807</td>\n",
              "      <td>8,94</td>\n",
              "    </tr>\n",
              "    <tr>\n",
              "      <th>4</th>\n",
              "      <td>1984</td>\n",
              "      <td>68083</td>\n",
              "      <td>9,15</td>\n",
              "    </tr>\n",
              "  </tbody>\n",
              "</table>\n",
              "</div>\n",
              "      <button class=\"colab-df-convert\" onclick=\"convertToInteractive('df-1ddb6587-13d4-4fd8-aaa2-a10cbb2fec48')\"\n",
              "              title=\"Convert this dataframe to an interactive table.\"\n",
              "              style=\"display:none;\">\n",
              "        \n",
              "  <svg xmlns=\"http://www.w3.org/2000/svg\" height=\"24px\"viewBox=\"0 0 24 24\"\n",
              "       width=\"24px\">\n",
              "    <path d=\"M0 0h24v24H0V0z\" fill=\"none\"/>\n",
              "    <path d=\"M18.56 5.44l.94 2.06.94-2.06 2.06-.94-2.06-.94-.94-2.06-.94 2.06-2.06.94zm-11 1L8.5 8.5l.94-2.06 2.06-.94-2.06-.94L8.5 2.5l-.94 2.06-2.06.94zm10 10l.94 2.06.94-2.06 2.06-.94-2.06-.94-.94-2.06-.94 2.06-2.06.94z\"/><path d=\"M17.41 7.96l-1.37-1.37c-.4-.4-.92-.59-1.43-.59-.52 0-1.04.2-1.43.59L10.3 9.45l-7.72 7.72c-.78.78-.78 2.05 0 2.83L4 21.41c.39.39.9.59 1.41.59.51 0 1.02-.2 1.41-.59l7.78-7.78 2.81-2.81c.8-.78.8-2.07 0-2.86zM5.41 20L4 18.59l7.72-7.72 1.47 1.35L5.41 20z\"/>\n",
              "  </svg>\n",
              "      </button>\n",
              "      \n",
              "  <style>\n",
              "    .colab-df-container {\n",
              "      display:flex;\n",
              "      flex-wrap:wrap;\n",
              "      gap: 12px;\n",
              "    }\n",
              "\n",
              "    .colab-df-convert {\n",
              "      background-color: #E8F0FE;\n",
              "      border: none;\n",
              "      border-radius: 50%;\n",
              "      cursor: pointer;\n",
              "      display: none;\n",
              "      fill: #1967D2;\n",
              "      height: 32px;\n",
              "      padding: 0 0 0 0;\n",
              "      width: 32px;\n",
              "    }\n",
              "\n",
              "    .colab-df-convert:hover {\n",
              "      background-color: #E2EBFA;\n",
              "      box-shadow: 0px 1px 2px rgba(60, 64, 67, 0.3), 0px 1px 3px 1px rgba(60, 64, 67, 0.15);\n",
              "      fill: #174EA6;\n",
              "    }\n",
              "\n",
              "    [theme=dark] .colab-df-convert {\n",
              "      background-color: #3B4455;\n",
              "      fill: #D2E3FC;\n",
              "    }\n",
              "\n",
              "    [theme=dark] .colab-df-convert:hover {\n",
              "      background-color: #434B5C;\n",
              "      box-shadow: 0px 1px 3px 1px rgba(0, 0, 0, 0.15);\n",
              "      filter: drop-shadow(0px 1px 2px rgba(0, 0, 0, 0.3));\n",
              "      fill: #FFFFFF;\n",
              "    }\n",
              "  </style>\n",
              "\n",
              "      <script>\n",
              "        const buttonEl =\n",
              "          document.querySelector('#df-1ddb6587-13d4-4fd8-aaa2-a10cbb2fec48 button.colab-df-convert');\n",
              "        buttonEl.style.display =\n",
              "          google.colab.kernel.accessAllowed ? 'block' : 'none';\n",
              "\n",
              "        async function convertToInteractive(key) {\n",
              "          const element = document.querySelector('#df-1ddb6587-13d4-4fd8-aaa2-a10cbb2fec48');\n",
              "          const dataTable =\n",
              "            await google.colab.kernel.invokeFunction('convertToInteractive',\n",
              "                                                     [key], {});\n",
              "          if (!dataTable) return;\n",
              "\n",
              "          const docLinkHtml = 'Like what you see? Visit the ' +\n",
              "            '<a target=\"_blank\" href=https://colab.research.google.com/notebooks/data_table.ipynb>data table notebook</a>'\n",
              "            + ' to learn more about interactive tables.';\n",
              "          element.innerHTML = '';\n",
              "          dataTable['output_type'] = 'display_data';\n",
              "          await google.colab.output.renderOutput(dataTable, element);\n",
              "          const docLink = document.createElement('div');\n",
              "          docLink.innerHTML = docLinkHtml;\n",
              "          element.appendChild(docLink);\n",
              "        }\n",
              "      </script>\n",
              "    </div>\n",
              "  </div>\n",
              "  "
            ]
          },
          "metadata": {},
          "execution_count": 164
        }
      ]
    },
    {
      "cell_type": "markdown",
      "source": [
        "2. What are the datatypes for each of the columns."
      ],
      "metadata": {
        "id": "rSbMbIG2539K"
      }
    },
    {
      "cell_type": "code",
      "source": [
        ""
      ],
      "metadata": {
        "id": "cR7fHoeV4htz"
      },
      "execution_count": null,
      "outputs": []
    },
    {
      "cell_type": "markdown",
      "source": [
        "3. Change the datatype of 'gemiddelde oppervlakte per bedrijf (ha)' to float."
      ],
      "metadata": {
        "id": "j_NvIVjEjMkx"
      }
    },
    {
      "cell_type": "code",
      "source": [
        ""
      ],
      "metadata": {
        "id": "cVCtbUpsNZj2"
      },
      "execution_count": null,
      "outputs": []
    },
    {
      "cell_type": "markdown",
      "source": [
        "4. Draw a scatter plot of the number of farms versus the year.\n"
      ],
      "metadata": {
        "id": "JIaO1uFr6sIC"
      }
    },
    {
      "cell_type": "code",
      "source": [
        ""
      ],
      "metadata": {
        "id": "abjteDnL65EZ"
      },
      "execution_count": null,
      "outputs": []
    },
    {
      "cell_type": "markdown",
      "source": [
        "5. Is there a positive / negative relationship between jaar and 'aantal land en tuinbouwbedrijven'?\n",
        "\n",
        "R = -0.9861066349492859"
      ],
      "metadata": {
        "id": "CzzVx0pE-pwT"
      }
    },
    {
      "cell_type": "code",
      "source": [
        ""
      ],
      "metadata": {
        "id": "Az5IgPJ-E2Sa",
        "colab": {
          "base_uri": "https://localhost:8080/"
        },
        "outputId": "864e59b6-4a8b-4a83-8e43-a3107dad4e43"
      },
      "execution_count": null,
      "outputs": [
        {
          "output_type": "stream",
          "name": "stdout",
          "text": [
            "R = -0.9861066349492859\n"
          ]
        }
      ]
    },
    {
      "cell_type": "markdown",
      "source": [
        "6. Is there a strong relationship between jaar and 'aantal land en tuinbouwbedrijven'?\n",
        "\n",
        "R² = 0.9724062954910041"
      ],
      "metadata": {
        "id": "IVAzn5QREtnw"
      }
    },
    {
      "cell_type": "code",
      "source": [
        ""
      ],
      "metadata": {
        "colab": {
          "base_uri": "https://localhost:8080/"
        },
        "id": "F7lhH4yX-IPL",
        "outputId": "8994612c-50ff-45cf-ad67-b5a4435a94a4"
      },
      "execution_count": null,
      "outputs": [
        {
          "output_type": "stream",
          "name": "stdout",
          "text": [
            "R² = 0.9724062954910041\n"
          ]
        }
      ]
    },
    {
      "cell_type": "markdown",
      "source": [
        "7. Draw a scatter plot of the 'gemiddelde oppervlakte per bedrijf (ha)' versus the year."
      ],
      "metadata": {
        "id": "ZO79FB0f7O1O"
      }
    },
    {
      "cell_type": "code",
      "source": [
        ""
      ],
      "metadata": {
        "colab": {
          "base_uri": "https://localhost:8080/",
          "height": 388
        },
        "id": "lTfhqSDv8fcD",
        "outputId": "8cb49e73-da31-40c7-c066-8ade59665482"
      },
      "execution_count": null,
      "outputs": [
        {
          "output_type": "execute_result",
          "data": {
            "text/plain": [
              "<seaborn.axisgrid.FacetGrid at 0x7fa53b93f750>"
            ]
          },
          "metadata": {},
          "execution_count": 170
        },
        {
          "output_type": "display_data",
          "data": {
            "text/plain": [
              "<Figure size 360x360 with 1 Axes>"
            ],
            "image/png": "[encoded data removed]"
          },
          "metadata": {
            "needs_background": "light"
          }
        }
      ]
    },
    {
      "cell_type": "markdown",
      "source": [
        "8. What will be the 'gemiddelde oppervlakte per bedrijf (ha)' in 2035?\n",
        "\n",
        "Gemiddelde oppervlakte in 2035 = 34.91987804878045"
      ],
      "metadata": {
        "id": "X6QzbDL9793U"
      }
    },
    {
      "cell_type": "code",
      "source": [
        ""
      ],
      "metadata": {
        "colab": {
          "base_uri": "https://localhost:8080/"
        },
        "id": "_Gfuidwg5Igq",
        "outputId": "36eddad2-91fd-4f25-b47e-4ff925a532db"
      },
      "execution_count": null,
      "outputs": [
        {
          "output_type": "stream",
          "name": "stdout",
          "text": [
            "Gemiddelde oppervlakte in 2035 = 34.91987804878045\n"
          ]
        }
      ]
    },
    {
      "cell_type": "markdown",
      "source": [
        "8. Calculate the total agricultural area for each year.   \n",
        "Calculate for each year the change of the total area relative to 1980.  \n",
        "Make a plot.\n",
        "\n",
        "![image.png](data:image/png;base64,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)\n"
      ],
      "metadata": {
        "id": "Hlb0d9w36tdJ"
      }
    },
    {
      "cell_type": "code",
      "source": [
        ""
      ],
      "metadata": {
        "id": "7CjVnEhQBjVj"
      },
      "execution_count": null,
      "outputs": []
    },
    {
      "cell_type": "code",
      "source": [
        ""
      ],
      "metadata": {
        "id": "2w3Leqo0Dkol"
      },
      "execution_count": null,
      "outputs": []
    },
    {
      "cell_type": "markdown",
      "source": [
        "## Exercise 3: Movies of 2006 and 2007\n",
        "\n",
        "1. The file Movies_2006_2007 contains information on over 200\n",
        "movies that were released during 2006 and 2007."
      ],
      "metadata": {
        "id": "eOiOB23eIQTj"
      }
    },
    {
      "cell_type": "code",
      "source": [
        "movies = pd.read_csv('/content/drive/MyDrive/Colab Notebooks/Movies_2006_2007.csv', delimiter = \";\", encoding='cp1252')\n",
        "# Show the first few records of the Data Frame\n",
        "movies.head()"
      ],
      "metadata": {
        "colab": {
          "base_uri": "https://localhost:8080/",
          "height": 206
        },
        "id": "sIDBQK4fIPkz",
        "outputId": "04c01afc-1330-4567-c5fe-84c8bd4b1eb3"
      },
      "execution_count": null,
      "outputs": [
        {
          "output_type": "execute_result",
          "data": {
            "text/plain": [
              "   Index                                       Movie          Distributor  \\\n",
              "0    1.0  The Texas Chainsaw Massacre: The Beginning             New Line   \n",
              "1    2.0                             Year of the Dog    Paramount Vantage   \n",
              "2    3.0                                         War            Lionsgate   \n",
              "3    4.0                              Stomp the Yard        Sony Pictures   \n",
              "4    5.0                             The Illusionist  Freestyle Releasing   \n",
              "\n",
              "    Genre  7-day Gross 14-day Gross Total US Gross International Gross  \\\n",
              "0  Horror  $22 707 121  $32 109 139    $39 517 763         $11 000 000   \n",
              "1   Drama     $141 803     $318 598     $1 540 141                 NaN   \n",
              "2  Action  $12 839 402          NaN    $22 466 994         $18 200 000   \n",
              "3   Drama  $28 263 594  $42 853 277    $61 356 221         $15 000 000   \n",
              "4   Drama          NaN          NaN    $39 868 642         $44 407 533   \n",
              "\n",
              "  US DVD Sales       Budget  \n",
              "0  $15 909 367  $16 000 000  \n",
              "1          NaN          NaN  \n",
              "2  $27 040 983  $25 000 000  \n",
              "3  $33 166 898  $14 000 000  \n",
              "4  $38 189 217  $16 500 000  "
            ],
            "text/html": [
              "\n",
              "  <div id=\"df-55ad3868-7f6d-4df1-a2e5-b942f33d20c6\">\n",
              "    <div class=\"colab-df-container\">\n",
              "      <div>\n",
              "<style scoped>\n",
              "    .dataframe tbody tr th:only-of-type {\n",
              "        vertical-align: middle;\n",
              "    }\n",
              "\n",
              "    .dataframe tbody tr th {\n",
              "        vertical-align: top;\n",
              "    }\n",
              "\n",
              "    .dataframe thead th {\n",
              "        text-align: right;\n",
              "    }\n",
              "</style>\n",
              "<table border=\"1\" class=\"dataframe\">\n",
              "  <thead>\n",
              "    <tr style=\"text-align: right;\">\n",
              "      <th></th>\n",
              "      <th>Index</th>\n",
              "      <th>Movie</th>\n",
              "      <th>Distributor</th>\n",
              "      <th>Genre</th>\n",
              "      <th>7-day Gross</th>\n",
              "      <th>14-day Gross</th>\n",
              "      <th>Total US Gross</th>\n",
              "      <th>International Gross</th>\n",
              "      <th>US DVD Sales</th>\n",
              "      <th>Budget</th>\n",
              "    </tr>\n",
              "  </thead>\n",
              "  <tbody>\n",
              "    <tr>\n",
              "      <th>0</th>\n",
              "      <td>1.0</td>\n",
              "      <td>The Texas Chainsaw Massacre: The Beginning</td>\n",
              "      <td>New Line</td>\n",
              "      <td>Horror</td>\n",
              "      <td>$22 707 121</td>\n",
              "      <td>$32 109 139</td>\n",
              "      <td>$39 517 763</td>\n",
              "      <td>$11 000 000</td>\n",
              "      <td>$15 909 367</td>\n",
              "      <td>$16 000 000</td>\n",
              "    </tr>\n",
              "    <tr>\n",
              "      <th>1</th>\n",
              "      <td>2.0</td>\n",
              "      <td>Year of the Dog</td>\n",
              "      <td>Paramount Vantage</td>\n",
              "      <td>Drama</td>\n",
              "      <td>$141 803</td>\n",
              "      <td>$318 598</td>\n",
              "      <td>$1 540 141</td>\n",
              "      <td>NaN</td>\n",
              "      <td>NaN</td>\n",
              "      <td>NaN</td>\n",
              "    </tr>\n",
              "    <tr>\n",
              "      <th>2</th>\n",
              "      <td>3.0</td>\n",
              "      <td>War</td>\n",
              "      <td>Lionsgate</td>\n",
              "      <td>Action</td>\n",
              "      <td>$12 839 402</td>\n",
              "      <td>NaN</td>\n",
              "      <td>$22 466 994</td>\n",
              "      <td>$18 200 000</td>\n",
              "      <td>$27 040 983</td>\n",
              "      <td>$25 000 000</td>\n",
              "    </tr>\n",
              "    <tr>\n",
              "      <th>3</th>\n",
              "      <td>4.0</td>\n",
              "      <td>Stomp the Yard</td>\n",
              "      <td>Sony Pictures</td>\n",
              "      <td>Drama</td>\n",
              "      <td>$28 263 594</td>\n",
              "      <td>$42 853 277</td>\n",
              "      <td>$61 356 221</td>\n",
              "      <td>$15 000 000</td>\n",
              "      <td>$33 166 898</td>\n",
              "      <td>$14 000 000</td>\n",
              "    </tr>\n",
              "    <tr>\n",
              "      <th>4</th>\n",
              "      <td>5.0</td>\n",
              "      <td>The Illusionist</td>\n",
              "      <td>Freestyle Releasing</td>\n",
              "      <td>Drama</td>\n",
              "      <td>NaN</td>\n",
              "      <td>NaN</td>\n",
              "      <td>$39 868 642</td>\n",
              "      <td>$44 407 533</td>\n",
              "      <td>$38 189 217</td>\n",
              "      <td>$16 500 000</td>\n",
              "    </tr>\n",
              "  </tbody>\n",
              "</table>\n",
              "</div>\n",
              "      <button class=\"colab-df-convert\" onclick=\"convertToInteractive('df-55ad3868-7f6d-4df1-a2e5-b942f33d20c6')\"\n",
              "              title=\"Convert this dataframe to an interactive table.\"\n",
              "              style=\"display:none;\">\n",
              "        \n",
              "  <svg xmlns=\"http://www.w3.org/2000/svg\" height=\"24px\"viewBox=\"0 0 24 24\"\n",
              "       width=\"24px\">\n",
              "    <path d=\"M0 0h24v24H0V0z\" fill=\"none\"/>\n",
              "    <path d=\"M18.56 5.44l.94 2.06.94-2.06 2.06-.94-2.06-.94-.94-2.06-.94 2.06-2.06.94zm-11 1L8.5 8.5l.94-2.06 2.06-.94-2.06-.94L8.5 2.5l-.94 2.06-2.06.94zm10 10l.94 2.06.94-2.06 2.06-.94-2.06-.94-.94-2.06-.94 2.06-2.06.94z\"/><path d=\"M17.41 7.96l-1.37-1.37c-.4-.4-.92-.59-1.43-.59-.52 0-1.04.2-1.43.59L10.3 9.45l-7.72 7.72c-.78.78-.78 2.05 0 2.83L4 21.41c.39.39.9.59 1.41.59.51 0 1.02-.2 1.41-.59l7.78-7.78 2.81-2.81c.8-.78.8-2.07 0-2.86zM5.41 20L4 18.59l7.72-7.72 1.47 1.35L5.41 20z\"/>\n",
              "  </svg>\n",
              "      </button>\n",
              "      \n",
              "  <style>\n",
              "    .colab-df-container {\n",
              "      display:flex;\n",
              "      flex-wrap:wrap;\n",
              "      gap: 12px;\n",
              "    }\n",
              "\n",
              "    .colab-df-convert {\n",
              "      background-color: #E8F0FE;\n",
              "      border: none;\n",
              "      border-radius: 50%;\n",
              "      cursor: pointer;\n",
              "      display: none;\n",
              "      fill: #1967D2;\n",
              "      height: 32px;\n",
              "      padding: 0 0 0 0;\n",
              "      width: 32px;\n",
              "    }\n",
              "\n",
              "    .colab-df-convert:hover {\n",
              "      background-color: #E2EBFA;\n",
              "      box-shadow: 0px 1px 2px rgba(60, 64, 67, 0.3), 0px 1px 3px 1px rgba(60, 64, 67, 0.15);\n",
              "      fill: #174EA6;\n",
              "    }\n",
              "\n",
              "    [theme=dark] .colab-df-convert {\n",
              "      background-color: #3B4455;\n",
              "      fill: #D2E3FC;\n",
              "    }\n",
              "\n",
              "    [theme=dark] .colab-df-convert:hover {\n",
              "      background-color: #434B5C;\n",
              "      box-shadow: 0px 1px 3px 1px rgba(0, 0, 0, 0.15);\n",
              "      filter: drop-shadow(0px 1px 2px rgba(0, 0, 0, 0.3));\n",
              "      fill: #FFFFFF;\n",
              "    }\n",
              "  </style>\n",
              "\n",
              "      <script>\n",
              "        const buttonEl =\n",
              "          document.querySelector('#df-55ad3868-7f6d-4df1-a2e5-b942f33d20c6 button.colab-df-convert');\n",
              "        buttonEl.style.display =\n",
              "          google.colab.kernel.accessAllowed ? 'block' : 'none';\n",
              "\n",
              "        async function convertToInteractive(key) {\n",
              "          const element = document.querySelector('#df-55ad3868-7f6d-4df1-a2e5-b942f33d20c6');\n",
              "          const dataTable =\n",
              "            await google.colab.kernel.invokeFunction('convertToInteractive',\n",
              "                                                     [key], {});\n",
              "          if (!dataTable) return;\n",
              "\n",
              "          const docLinkHtml = 'Like what you see? Visit the ' +\n",
              "            '<a target=\"_blank\" href=https://colab.research.google.com/notebooks/data_table.ipynb>data table notebook</a>'\n",
              "            + ' to learn more about interactive tables.';\n",
              "          element.innerHTML = '';\n",
              "          dataTable['output_type'] = 'display_data';\n",
              "          await google.colab.output.renderOutput(dataTable, element);\n",
              "          const docLink = document.createElement('div');\n",
              "          docLink.innerHTML = docLinkHtml;\n",
              "          element.appendChild(docLink);\n",
              "        }\n",
              "      </script>\n",
              "    </div>\n",
              "  </div>\n",
              "  "
            ]
          },
          "metadata": {},
          "execution_count": 174
        }
      ]
    },
    {
      "cell_type": "markdown",
      "source": [
        "2. Use cols_with_dollars to transform the amounts in dollars into floats, e.g. $22 707 121\tbecomes 22707121."
      ],
      "metadata": {
        "id": "HqMWAzL1USBd"
      }
    },
    {
      "cell_type": "code",
      "source": [
        "cols_with_dollars = ['7-day Gross',\t'14-day Gross',\t'Total US Gross',\t'International Gross',\t'US DVD Sales',\t'Budget']"
      ],
      "metadata": {
        "id": "YjMA0QBRK5_f"
      },
      "execution_count": null,
      "outputs": []
    },
    {
      "cell_type": "code",
      "source": [
        ""
      ],
      "metadata": {
        "id": "Lj-onBo_LhB1"
      },
      "execution_count": null,
      "outputs": []
    },
    {
      "cell_type": "markdown",
      "source": [
        "3. Create two scatterplots: one of Total US Gross (Y) versus\n",
        "7-day Gross (X) and one of Total US Gross (Y)\n",
        "versus 14-day Gross (X).\n",
        "\n",
        "![image.png](data:image/png;base64,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)"
      ],
      "metadata": {
        "id": "9Va4W8zmUnPb"
      }
    },
    {
      "cell_type": "code",
      "source": [
        ""
      ],
      "metadata": {
        "id": "5dRNLCrsNVeH"
      },
      "execution_count": null,
      "outputs": []
    },
    {
      "cell_type": "markdown",
      "source": [
        "4. What are the corresponding\n",
        "values for $R$ and $R^2$?\n",
        "\n",
        "R (7 Day Gross vs Total US Gross) = 0.959407544414305  \n",
        "R² (7 Day Gross vs Total US Gross) = 0.9204628362790865  \n",
        "R (14 Day Gross vs Total US Gross) = 0.9813238689021966  \n",
        "R² (14) Day Gross vs Total US Gross) = 0.9629965356771755"
      ],
      "metadata": {
        "id": "CR8lfSqbY8zN"
      }
    },
    {
      "cell_type": "code",
      "source": [
        ""
      ],
      "metadata": {
        "id": "Ymd1MAX5jTpv"
      },
      "execution_count": null,
      "outputs": []
    },
    {
      "cell_type": "markdown",
      "source": [
        "5. What are the equations of the linear regression lines in the previous part?  \n",
        "What exactly does intercept and slope tell you about the movie business?\n",
        "\n",
        "7 days gross: ŷ = 4590921.233818144 + 2.1134647566101816 * x  \n",
        "14 days gross: ŷ = 2449002.8925510645 + 1.44645307025908 * x"
      ],
      "metadata": {
        "id": "XgalD8hpdgpX"
      }
    },
    {
      "cell_type": "code",
      "source": [
        ""
      ],
      "metadata": {
        "id": "WCfKiULHNo4b"
      },
      "execution_count": null,
      "outputs": []
    },
    {
      "cell_type": "code",
      "source": [
        ""
      ],
      "metadata": {
        "id": "gADW5WRObyp3"
      },
      "execution_count": null,
      "outputs": []
    },
    {
      "cell_type": "markdown",
      "source": [
        "6. In the previous scatterplots you can see some ouliers at the right side. These are movies that did great\n",
        "during their first week or two. \n",
        "* What are these outliers? \n",
        "* Remove them out of the dataset (you can decide how many qualify).\n",
        "* Give the new values for $R$ and $R^2$.\n",
        "* Give the new values for the slope and the intercept of the regression lines. Do the outliers have a great effect?"
      ],
      "metadata": {
        "id": "Nl83jWxWP_aW"
      }
    },
    {
      "cell_type": "code",
      "source": [
        ""
      ],
      "metadata": {
        "id": "qS6T-UaVQAPW"
      },
      "execution_count": null,
      "outputs": []
    },
    {
      "cell_type": "code",
      "source": [
        ""
      ],
      "metadata": {
        "id": "EnBiMCH6gjbV"
      },
      "execution_count": null,
      "outputs": []
    },
    {
      "cell_type": "code",
      "source": [
        ""
      ],
      "metadata": {
        "id": "GuXepwf0hW6f"
      },
      "execution_count": null,
      "outputs": []
    },
    {
      "cell_type": "code",
      "source": [
        ""
      ],
      "metadata": {
        "id": "XusQqIgYgtEc"
      },
      "execution_count": null,
      "outputs": []
    },
    {
      "cell_type": "code",
      "source": [
        ""
      ],
      "metadata": {
        "id": "kEFLFNvwg0ha"
      },
      "execution_count": null,
      "outputs": []
    },
    {
      "cell_type": "code",
      "source": [
        ""
      ],
      "metadata": {
        "id": "5tK9yK2sg0qq"
      },
      "execution_count": null,
      "outputs": []
    },
    {
      "cell_type": "code",
      "source": [
        ""
      ],
      "metadata": {
        "id": "t95kyVyOg0zL"
      },
      "execution_count": null,
      "outputs": []
    },
    {
      "cell_type": "code",
      "source": [
        ""
      ],
      "metadata": {
        "id": "6CBCwwcfh8ZV"
      },
      "execution_count": null,
      "outputs": []
    }
  ],
  "metadata": {
    "language_info": {
      "name": "python"
    },
    "orig_nbformat": 4,
    "colab": {
      "name": "Kopie van labs-regression with 2 extra exercises.ipynb",
      "provenance": [],
      "collapsed_sections": []
    },
    "kernelspec": {
      "name": "python3",
      "display_name": "Python 3"
    }
  },
  "nbformat": 4,
  "nbformat_minor": 0
}