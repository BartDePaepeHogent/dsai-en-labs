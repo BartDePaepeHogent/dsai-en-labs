{
 "cells": [
  {
   "cell_type": "markdown",
   "metadata": {},
   "source": [
    "# Module 6. Labs regression analysis\n",
    "\n",
    "## Relation between heart weight and body weight in Cats\n",
    "\n",
    "Import the dataset `Cats.csv`.\n",
    "\n",
    "1. Perform a linear regression analysis on the variables body weight (`Bwt`, dependent variable) and heart weight (`Hwt`, independent variabele).\n",
    "2. Draw a scatter plot of both variables.\n",
    "3. Calculate and draw the regression line.\n",
    "4. Calculate the correlation coefficient and the coefficient of determination.\n",
    "5. Interpret the results from the previous steps."
   ]
  },
  {
   "cell_type": "code",
   "execution_count": null,
   "metadata": {},
   "outputs": [],
   "source": []
  },
  {
   "cell_type": "markdown",
   "metadata": {},
   "source": [
    "Use the same dataset (`Cats.csv`).\n",
    "\n",
    "1. Perform a linear regression analysis on the variables body weight (`Bwt`) and heart weight (`Hwt`), but this time **subdivided by gender** (`Sex`).\n",
    "2. Draw a scatter plot of both variables for each gender.\n",
    "3. Calculate and draw the regression line.\n",
    "4. Calculate the correlation coefficient and the coefficient of determination.\n",
    "5. Interpret the results from the previous steps."
   ]
  },
  {
   "cell_type": "code",
   "execution_count": null,
   "metadata": {},
   "outputs": [],
   "source": []
  },
  {
   "cell_type": "markdown",
   "metadata": {},
   "source": [
    "### Answers\n",
    "\n",
    "| Selection |  $\\beta_0$ | $\\beta_1$ |       $R$ |     $R^2$ |\n",
    "| :-------- | ---------: | --------: | --------: | --------: |\n",
    "| All       | -0.3510784 | 4.0317575 | 0.8041348 | 0.6466328 |\n",
    "| Male      | -1.1768253 | 4.3098189 | 0.7930443 | 0.6289193 |\n",
    "| Female    |  2.9813124 |  2.636414 | 0.5320497 | 0.2830768 |\n"
   ]
  }
 ],
 "metadata": {
  "language_info": {
   "name": "python"
  },
  "orig_nbformat": 4
 },
 "nbformat": 4,
 "nbformat_minor": 2
}
