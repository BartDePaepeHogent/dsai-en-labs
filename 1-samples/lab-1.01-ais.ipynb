{
 "cells": [
  {
   "cell_type": "markdown",
   "metadata": {
    "pycharm": {
     "name": "#%% md\n"
    }
   },
   "source": [
    "# Lab 1.01 - Australian Athletes (ais)\n",
    "\n",
    "In the Python cell below this one, paste all the imports you need for data analysis from the code examples (Numpy, Pandas, etc.)."
   ]
  },
  {
   "cell_type": "code",
   "execution_count": 1,
   "metadata": {
    "pycharm": {
     "name": "#%%\n"
    }
   },
   "outputs": [],
   "source": [
    "import pandas as pd\n",
    "from pandas.api.types import CategoricalDtype\n",
    "import seaborn as sns"
   ]
  },
  {
   "cell_type": "markdown",
   "metadata": {
    "pycharm": {
     "name": "#%% md\n"
    }
   },
   "source": [
    "Declare a variable `ais` and use it to import the dataset from the CSV-file `ais.csv` in [the directory `data/`](https://github.com/HoGentTIN/dsai-en-labs/tree/main/data) of the [Github repository](https://github.com/HoGentTIN/dsai-en-labs/) for the lab assignments. You can import a dataset with a URL pointing to the raw contents of the CSV-file in the Github repository (see the code example!).\n",
    "\n",
    "This dataset contains 202 observations of Australian athletes with a variety of blood values. You can find the codebook (i.e., the explanation of what each variable/column in the dataset means) in [data/ais.md](https://github.com/HoGentTIN/dsai-en-labs/blob/main/data/ais.md). Show the first few observations of this sample."
   ]
  },
  {
   "cell_type": "code",
   "execution_count": null,
   "metadata": {
    "pycharm": {
     "name": "#%%\n"
    }
   },
   "outputs": [],
   "source": []
  },
  {
   "cell_type": "markdown",
   "metadata": {
    "pycharm": {
     "name": "#%% md\n"
    }
   },
   "source": [
    "Get general information about this dataset:\n",
    "\n",
    "- How many rows and columns does the dataset have?\n",
    "- Show general information about each variable, specifically the number of empty fields and the type of each variable (e.g., int64, float64, object)\n",
    "- How many columns of each type are there?\n",
    "- What is the measurement level (nominal, ordinal, interval, ratio) of each variable?"
   ]
  },
  {
   "cell_type": "code",
   "execution_count": 2,
   "metadata": {
    "pycharm": {
     "name": "#%%\n"
    }
   },
   "outputs": [
    {
     "data": {
      "text/plain": "   id   rcc  wcc    hc    hg  ferr    bmi    ssf  pcBfat    lbm     ht    wt  \\\n0   1  3.96  7.5  37.5  12.3    60  20.56  109.1   19.75  63.32  195.9  78.9   \n1   2  4.41  8.3  38.2  12.7    68  20.67  102.8   21.30  58.55  189.7  74.4   \n2   3  4.14  5.0  36.4  11.6    21  21.86  104.6   19.88  55.36  177.8  69.1   \n3   4  4.11  5.3  37.3  12.6    69  21.88  126.4   23.66  57.18  185.0  74.9   \n4   5  4.45  6.8  41.5  14.0    29  18.96   80.3   17.64  53.20  184.6  64.6   \n\n  sex   sport  \n0   f  B_Ball  \n1   f  B_Ball  \n2   f  B_Ball  \n3   f  B_Ball  \n4   f  B_Ball  ",
      "text/html": "<div>\n<style scoped>\n    .dataframe tbody tr th:only-of-type {\n        vertical-align: middle;\n    }\n\n    .dataframe tbody tr th {\n        vertical-align: top;\n    }\n\n    .dataframe thead th {\n        text-align: right;\n    }\n</style>\n<table border=\"1\" class=\"dataframe\">\n  <thead>\n    <tr style=\"text-align: right;\">\n      <th></th>\n      <th>id</th>\n      <th>rcc</th>\n      <th>wcc</th>\n      <th>hc</th>\n      <th>hg</th>\n      <th>ferr</th>\n      <th>bmi</th>\n      <th>ssf</th>\n      <th>pcBfat</th>\n      <th>lbm</th>\n      <th>ht</th>\n      <th>wt</th>\n      <th>sex</th>\n      <th>sport</th>\n    </tr>\n  </thead>\n  <tbody>\n    <tr>\n      <th>0</th>\n      <td>1</td>\n      <td>3.96</td>\n      <td>7.5</td>\n      <td>37.5</td>\n      <td>12.3</td>\n      <td>60</td>\n      <td>20.56</td>\n      <td>109.1</td>\n      <td>19.75</td>\n      <td>63.32</td>\n      <td>195.9</td>\n      <td>78.9</td>\n      <td>f</td>\n      <td>B_Ball</td>\n    </tr>\n    <tr>\n      <th>1</th>\n      <td>2</td>\n      <td>4.41</td>\n      <td>8.3</td>\n      <td>38.2</td>\n      <td>12.7</td>\n      <td>68</td>\n      <td>20.67</td>\n      <td>102.8</td>\n      <td>21.30</td>\n      <td>58.55</td>\n      <td>189.7</td>\n      <td>74.4</td>\n      <td>f</td>\n      <td>B_Ball</td>\n    </tr>\n    <tr>\n      <th>2</th>\n      <td>3</td>\n      <td>4.14</td>\n      <td>5.0</td>\n      <td>36.4</td>\n      <td>11.6</td>\n      <td>21</td>\n      <td>21.86</td>\n      <td>104.6</td>\n      <td>19.88</td>\n      <td>55.36</td>\n      <td>177.8</td>\n      <td>69.1</td>\n      <td>f</td>\n      <td>B_Ball</td>\n    </tr>\n    <tr>\n      <th>3</th>\n      <td>4</td>\n      <td>4.11</td>\n      <td>5.3</td>\n      <td>37.3</td>\n      <td>12.6</td>\n      <td>69</td>\n      <td>21.88</td>\n      <td>126.4</td>\n      <td>23.66</td>\n      <td>57.18</td>\n      <td>185.0</td>\n      <td>74.9</td>\n      <td>f</td>\n      <td>B_Ball</td>\n    </tr>\n    <tr>\n      <th>4</th>\n      <td>5</td>\n      <td>4.45</td>\n      <td>6.8</td>\n      <td>41.5</td>\n      <td>14.0</td>\n      <td>29</td>\n      <td>18.96</td>\n      <td>80.3</td>\n      <td>17.64</td>\n      <td>53.20</td>\n      <td>184.6</td>\n      <td>64.6</td>\n      <td>f</td>\n      <td>B_Ball</td>\n    </tr>\n  </tbody>\n</table>\n</div>"
     },
     "execution_count": 2,
     "metadata": {},
     "output_type": "execute_result"
    }
   ],
   "source": [
    "ais = pd.read_csv('../data/ais.csv')\n",
    "ais.head()"
   ]
  },
  {
   "cell_type": "code",
   "execution_count": 3,
   "outputs": [
    {
     "name": "stdout",
     "output_type": "stream",
     "text": [
      "Number of rows: 202\n",
      "Number of columns: 14\n",
      "<class 'pandas.core.frame.DataFrame'>\n",
      "RangeIndex: 202 entries, 0 to 201\n",
      "Data columns (total 14 columns):\n",
      " #   Column  Non-Null Count  Dtype  \n",
      "---  ------  --------------  -----  \n",
      " 0   id      202 non-null    int64  \n",
      " 1   rcc     202 non-null    float64\n",
      " 2   wcc     202 non-null    float64\n",
      " 3   hc      202 non-null    float64\n",
      " 4   hg      202 non-null    float64\n",
      " 5   ferr    202 non-null    int64  \n",
      " 6   bmi     202 non-null    float64\n",
      " 7   ssf     202 non-null    float64\n",
      " 8   pcBfat  202 non-null    float64\n",
      " 9   lbm     202 non-null    float64\n",
      " 10  ht      202 non-null    float64\n",
      " 11  wt      202 non-null    float64\n",
      " 12  sex     202 non-null    object \n",
      " 13  sport   202 non-null    object \n",
      "dtypes: float64(10), int64(2), object(2)\n",
      "memory usage: 22.2+ KB\n",
      "++++++++++++++++++++++++++++++++++++++++++++++++++\n",
      "float64    10\n",
      "int64       2\n",
      "object      2\n",
      "dtype: int64\n",
      "++++++++++++++++++++++++++++++++++++++++++++++++++\n"
     ]
    }
   ],
   "source": [
    "print(f\"Number of rows: {len(ais)}\")\n",
    "print(f\"Number of columns: {len(ais.columns)}\")\n",
    "ais.info()\n",
    "print(\"+\"*50)\n",
    "print(ais.dtypes.value_counts())\n",
    "print(\"+\"*50)"
   ],
   "metadata": {
    "collapsed": false,
    "pycharm": {
     "name": "#%%\n"
    }
   }
  },
  {
   "cell_type": "markdown",
   "metadata": {
    "pycharm": {
     "name": "#%% md\n"
    }
   },
   "source": [
    "The column \"id\" is not an actual variable, but an index. Mark it as such."
   ]
  },
  {
   "cell_type": "code",
   "execution_count": 4,
   "metadata": {
    "pycharm": {
     "name": "#%%\n"
    }
   },
   "outputs": [
    {
     "data": {
      "text/plain": "      rcc  wcc    hc    hg  ferr    bmi    ssf  pcBfat    lbm     ht    wt  \\\nid                                                                           \n1    3.96  7.5  37.5  12.3    60  20.56  109.1   19.75  63.32  195.9  78.9   \n2    4.41  8.3  38.2  12.7    68  20.67  102.8   21.30  58.55  189.7  74.4   \n3    4.14  5.0  36.4  11.6    21  21.86  104.6   19.88  55.36  177.8  69.1   \n4    4.11  5.3  37.3  12.6    69  21.88  126.4   23.66  57.18  185.0  74.9   \n5    4.45  6.8  41.5  14.0    29  18.96   80.3   17.64  53.20  184.6  64.6   \n..    ...  ...   ...   ...   ...    ...    ...     ...    ...    ...   ...   \n198  4.90  7.6  45.6  16.0    90  27.56   67.2   11.79  82.00  183.9  93.2   \n199  5.66  8.3  50.2  17.7    38  23.76   56.5   10.05  72.00  183.5  80.0   \n200  5.03  6.4  42.7  14.3   122  22.01   47.6    8.51  68.00  183.1  73.8   \n201  4.97  8.8  43.0  14.9   233  22.34   60.4   11.50  63.00  178.4  71.1   \n202  5.38  6.3  46.0  15.7    32  21.07   34.9    6.26  72.00  190.8  76.7   \n\n    sex   sport  \nid               \n1     f  B_Ball  \n2     f  B_Ball  \n3     f  B_Ball  \n4     f  B_Ball  \n5     f  B_Ball  \n..   ..     ...  \n198   m  W_Polo  \n199   m  Tennis  \n200   m  Tennis  \n201   m  Tennis  \n202   m  Tennis  \n\n[202 rows x 13 columns]",
      "text/html": "<div>\n<style scoped>\n    .dataframe tbody tr th:only-of-type {\n        vertical-align: middle;\n    }\n\n    .dataframe tbody tr th {\n        vertical-align: top;\n    }\n\n    .dataframe thead th {\n        text-align: right;\n    }\n</style>\n<table border=\"1\" class=\"dataframe\">\n  <thead>\n    <tr style=\"text-align: right;\">\n      <th></th>\n      <th>rcc</th>\n      <th>wcc</th>\n      <th>hc</th>\n      <th>hg</th>\n      <th>ferr</th>\n      <th>bmi</th>\n      <th>ssf</th>\n      <th>pcBfat</th>\n      <th>lbm</th>\n      <th>ht</th>\n      <th>wt</th>\n      <th>sex</th>\n      <th>sport</th>\n    </tr>\n    <tr>\n      <th>id</th>\n      <th></th>\n      <th></th>\n      <th></th>\n      <th></th>\n      <th></th>\n      <th></th>\n      <th></th>\n      <th></th>\n      <th></th>\n      <th></th>\n      <th></th>\n      <th></th>\n      <th></th>\n    </tr>\n  </thead>\n  <tbody>\n    <tr>\n      <th>1</th>\n      <td>3.96</td>\n      <td>7.5</td>\n      <td>37.5</td>\n      <td>12.3</td>\n      <td>60</td>\n      <td>20.56</td>\n      <td>109.1</td>\n      <td>19.75</td>\n      <td>63.32</td>\n      <td>195.9</td>\n      <td>78.9</td>\n      <td>f</td>\n      <td>B_Ball</td>\n    </tr>\n    <tr>\n      <th>2</th>\n      <td>4.41</td>\n      <td>8.3</td>\n      <td>38.2</td>\n      <td>12.7</td>\n      <td>68</td>\n      <td>20.67</td>\n      <td>102.8</td>\n      <td>21.30</td>\n      <td>58.55</td>\n      <td>189.7</td>\n      <td>74.4</td>\n      <td>f</td>\n      <td>B_Ball</td>\n    </tr>\n    <tr>\n      <th>3</th>\n      <td>4.14</td>\n      <td>5.0</td>\n      <td>36.4</td>\n      <td>11.6</td>\n      <td>21</td>\n      <td>21.86</td>\n      <td>104.6</td>\n      <td>19.88</td>\n      <td>55.36</td>\n      <td>177.8</td>\n      <td>69.1</td>\n      <td>f</td>\n      <td>B_Ball</td>\n    </tr>\n    <tr>\n      <th>4</th>\n      <td>4.11</td>\n      <td>5.3</td>\n      <td>37.3</td>\n      <td>12.6</td>\n      <td>69</td>\n      <td>21.88</td>\n      <td>126.4</td>\n      <td>23.66</td>\n      <td>57.18</td>\n      <td>185.0</td>\n      <td>74.9</td>\n      <td>f</td>\n      <td>B_Ball</td>\n    </tr>\n    <tr>\n      <th>5</th>\n      <td>4.45</td>\n      <td>6.8</td>\n      <td>41.5</td>\n      <td>14.0</td>\n      <td>29</td>\n      <td>18.96</td>\n      <td>80.3</td>\n      <td>17.64</td>\n      <td>53.20</td>\n      <td>184.6</td>\n      <td>64.6</td>\n      <td>f</td>\n      <td>B_Ball</td>\n    </tr>\n    <tr>\n      <th>...</th>\n      <td>...</td>\n      <td>...</td>\n      <td>...</td>\n      <td>...</td>\n      <td>...</td>\n      <td>...</td>\n      <td>...</td>\n      <td>...</td>\n      <td>...</td>\n      <td>...</td>\n      <td>...</td>\n      <td>...</td>\n      <td>...</td>\n    </tr>\n    <tr>\n      <th>198</th>\n      <td>4.90</td>\n      <td>7.6</td>\n      <td>45.6</td>\n      <td>16.0</td>\n      <td>90</td>\n      <td>27.56</td>\n      <td>67.2</td>\n      <td>11.79</td>\n      <td>82.00</td>\n      <td>183.9</td>\n      <td>93.2</td>\n      <td>m</td>\n      <td>W_Polo</td>\n    </tr>\n    <tr>\n      <th>199</th>\n      <td>5.66</td>\n      <td>8.3</td>\n      <td>50.2</td>\n      <td>17.7</td>\n      <td>38</td>\n      <td>23.76</td>\n      <td>56.5</td>\n      <td>10.05</td>\n      <td>72.00</td>\n      <td>183.5</td>\n      <td>80.0</td>\n      <td>m</td>\n      <td>Tennis</td>\n    </tr>\n    <tr>\n      <th>200</th>\n      <td>5.03</td>\n      <td>6.4</td>\n      <td>42.7</td>\n      <td>14.3</td>\n      <td>122</td>\n      <td>22.01</td>\n      <td>47.6</td>\n      <td>8.51</td>\n      <td>68.00</td>\n      <td>183.1</td>\n      <td>73.8</td>\n      <td>m</td>\n      <td>Tennis</td>\n    </tr>\n    <tr>\n      <th>201</th>\n      <td>4.97</td>\n      <td>8.8</td>\n      <td>43.0</td>\n      <td>14.9</td>\n      <td>233</td>\n      <td>22.34</td>\n      <td>60.4</td>\n      <td>11.50</td>\n      <td>63.00</td>\n      <td>178.4</td>\n      <td>71.1</td>\n      <td>m</td>\n      <td>Tennis</td>\n    </tr>\n    <tr>\n      <th>202</th>\n      <td>5.38</td>\n      <td>6.3</td>\n      <td>46.0</td>\n      <td>15.7</td>\n      <td>32</td>\n      <td>21.07</td>\n      <td>34.9</td>\n      <td>6.26</td>\n      <td>72.00</td>\n      <td>190.8</td>\n      <td>76.7</td>\n      <td>m</td>\n      <td>Tennis</td>\n    </tr>\n  </tbody>\n</table>\n<p>202 rows × 13 columns</p>\n</div>"
     },
     "execution_count": 4,
     "metadata": {},
     "output_type": "execute_result"
    }
   ],
   "source": [
    "ais.set_index(['id'])"
   ]
  },
  {
   "cell_type": "markdown",
   "metadata": {
    "pycharm": {
     "name": "#%% md\n"
    }
   },
   "source": [
    "The variables that are now considered \"object\" are qualitative variables. Change the type of each of these variables to \"category\". For ordinal variables, also define a type and impose an order. Verify that the conversion was successful by requesting info about the types again."
   ]
  },
  {
   "cell_type": "code",
   "execution_count": 5,
   "metadata": {
    "pycharm": {
     "name": "#%%\n"
    }
   },
   "outputs": [
    {
     "data": {
      "text/plain": "<Figure size 432x288 with 1 Axes>",
      "image/png": "[encoded data removed]"
     },
     "metadata": {
      "needs_background": "light"
     },
     "output_type": "display_data"
    }
   ],
   "source": [
    "ais.sex = ais.sex.astype('category')\n",
    "ais.sport = ais.sport.astype('category')\n",
    "sport_type = CategoricalDtype(categories=['B_Ball', 'Field', 'Gym', 'Netball', 'Row', 'Swim', 'T_400m', 'T_Sprnt', 'Tennis', 'W_Polo'], ordered=True)\n",
    "ais.sport = ais.sport.astype(sport_type)\n",
    "ais.sport.describe()\n",
    "sns.countplot(data=ais, x='sport');"
   ]
  },
  {
   "cell_type": "markdown",
   "metadata": {
    "pycharm": {
     "name": "#%% md\n"
    }
   },
   "source": [
    "Describe the columns `ferr`, `bmi`, `sex` and `sport` and the unique values in each of these columns. Do you recognize the characteristics of qualitative and quantitative variables in the result?"
   ]
  },
  {
   "cell_type": "code",
   "execution_count": 6,
   "metadata": {
    "pycharm": {
     "name": "#%%\n"
    }
   },
   "outputs": [
    {
     "name": "stdout",
     "output_type": "stream",
     "text": [
      "count    202.000000\n",
      "mean      76.876238\n",
      "std       47.501239\n",
      "min        8.000000\n",
      "25%       41.250000\n",
      "50%       65.500000\n",
      "75%       97.000000\n",
      "max      234.000000\n",
      "Name: ferr, dtype: float64\n",
      "++++++++++++++++++++++++++++++++++++++++++++++++++\n",
      "count    202.000000\n",
      "mean      22.955891\n",
      "std        2.863933\n",
      "min       16.750000\n",
      "25%       21.082500\n",
      "50%       22.720000\n",
      "75%       24.465000\n",
      "max       34.420000\n",
      "Name: bmi, dtype: float64\n",
      "++++++++++++++++++++++++++++++++++++++++++++++++++\n",
      "count     202\n",
      "unique      2\n",
      "top         m\n",
      "freq      102\n",
      "Name: sex, dtype: object\n",
      "['f', 'm']\n",
      "Categories (2, object): ['f', 'm']\n",
      "++++++++++++++++++++++++++++++++++++++++++++++++++\n",
      "count     202\n",
      "unique     10\n",
      "top       Row\n",
      "freq       37\n",
      "Name: sport, dtype: object\n",
      "['B_Ball', 'Row', 'Netball', 'Swim', 'Field', 'T_400m', 'T_Sprnt', 'Tennis', 'Gym', 'W_Polo']\n",
      "Categories (10, object): ['B_Ball' < 'Field' < 'Gym' < 'Netball' ... 'T_400m' < 'T_Sprnt' < 'Tennis' < 'W_Polo']\n"
     ]
    }
   ],
   "source": [
    "print(ais.ferr.describe())\n",
    "print(\"+\"*50)\n",
    "print(ais.bmi.describe())\n",
    "print(\"+\"*50)\n",
    "print(ais.sex.describe())\n",
    "print(ais.sex.unique())\n",
    "print(\"+\"*50)\n",
    "print(ais.sport.describe())\n",
    "print(ais.sport.unique())"
   ]
  },
  {
   "cell_type": "markdown",
   "metadata": {
    "pycharm": {
     "name": "#%% md\n"
    }
   },
   "source": [
    "Select following elements from the dataset:\n",
    "\n",
    "- the second row (ids = 2)\n",
    "- rows 4 to 6 (ids = 5 to 7)\n",
    "- Columns 6 to 8 (`ferr`, `bmi`, `ssf`)\n",
    "- the variable `pcBfat` (by name!). There are multiple ways to retrieve this!\n",
    "- all observations for the sport \"Netball\"\n",
    "- just the variable `wt` of the observations for \"Netball\"\n",
    "- which sports are played by athletes with a BMI higher than 26? Also, provide a list of the unique values and a frequency table of how often each sport occurs."
   ]
  },
  {
   "cell_type": "code",
   "execution_count": 7,
   "outputs": [
    {
     "name": "stdout",
     "output_type": "stream",
     "text": [
      "id             3\n",
      "rcc         4.14\n",
      "wcc          5.0\n",
      "hc          36.4\n",
      "hg          11.6\n",
      "ferr          21\n",
      "bmi        21.86\n",
      "ssf        104.6\n",
      "pcBfat     19.88\n",
      "lbm        55.36\n",
      "ht         177.8\n",
      "wt          69.1\n",
      "sex            f\n",
      "sport     B_Ball\n",
      "Name: 2, dtype: object\n",
      "   id   rcc  wcc    hc    hg  ferr    bmi   ssf  pcBfat    lbm     ht    wt  \\\n",
      "5   6  4.10  4.4  37.4  12.5    42  21.04  75.2   15.58  53.77  174.0  63.7   \n",
      "6   7  4.31  5.3  39.6  12.8    73  21.69  87.2   19.99  60.17  186.2  75.2   \n",
      "\n",
      "  sex   sport  \n",
      "5   f  B_Ball  \n",
      "6   f  B_Ball  \n",
      "       bmi    ssf\n",
      "0    20.56  109.1\n",
      "1    20.67  102.8\n",
      "2    21.86  104.6\n",
      "3    21.88  126.4\n",
      "4    18.96   80.3\n",
      "..     ...    ...\n",
      "197  27.56   67.2\n",
      "198  23.76   56.5\n",
      "199  22.01   47.6\n",
      "200  22.34   60.4\n",
      "201  21.07   34.9\n",
      "\n",
      "[202 rows x 2 columns]\n",
      "     pcBfat\n",
      "0     19.75\n",
      "1     21.30\n",
      "2     19.88\n",
      "3     23.66\n",
      "4     17.64\n",
      "..      ...\n",
      "197   11.79\n",
      "198   10.05\n",
      "199    8.51\n",
      "200   11.50\n",
      "201    6.26\n",
      "\n",
      "[202 rows x 1 columns]\n",
      "    id   rcc   wcc    hc    hg  ferr    bmi    ssf  pcBfat    lbm     ht  \\\n",
      "35  36  4.56  13.3  42.2  13.6    20  19.16   49.0   11.29  53.14  176.8   \n",
      "36  37  4.15   6.0  38.0  12.7    59  21.15  110.2   25.26  47.09  172.6   \n",
      "37  38  4.16   7.6  37.5  12.3    22  21.40   89.0   19.39  53.44  176.0   \n",
      "38  39  4.32   6.4  37.7  12.3    30  21.03   98.3   19.63  48.78  169.9   \n",
      "39  40  4.06   5.8  38.7  12.8    78  21.77  122.1   23.11  56.05  183.0   \n",
      "40  41  4.12   6.1  36.6  11.8    21  21.38   90.4   16.86  56.45  178.2   \n",
      "41  42  4.17   5.0  37.4  12.7   109  21.47  106.9   21.32  53.11  177.3   \n",
      "42  43  3.80   6.6  36.5  12.4   102  24.45  156.6   26.57  54.41  174.1   \n",
      "43  44  3.96   5.5  36.3  12.4    71  22.63  101.1   17.93  55.97  173.6   \n",
      "44  45  4.44   9.7  41.4  14.1    64  22.80  126.4   24.97  51.62  173.7   \n",
      "45  46  4.27  10.6  37.7  12.5    68  23.58  114.0   22.62  58.27  178.7   \n",
      "46  47  3.90   6.3  35.9  12.1    78  20.06   70.0   15.01  57.28  183.3   \n",
      "47  48  4.02   9.1  37.7  12.7   107  23.01   77.0   18.14  57.30  174.4   \n",
      "48  49  4.39   9.6  38.3  12.5    39  24.64  148.9   26.78  54.18  173.3   \n",
      "49  50  4.52   5.1  38.8  13.1    58  18.26   80.1   17.22  42.96  168.6   \n",
      "50  51  4.25  10.7  39.5  13.2   127  24.47  156.6   26.50  54.46  174.0   \n",
      "51  52  4.46  10.9  39.7  13.7   102  23.99  115.9   23.01  57.20  176.0   \n",
      "52  53  4.40   9.3  40.4  13.6    86  26.24  181.7   30.10  54.38  172.2   \n",
      "53  54  4.83   8.4  41.8  13.4    40  20.04   71.6   13.93  57.58  182.7   \n",
      "54  55  4.23   6.9  38.3  12.6    50  25.72  143.5   26.65  61.46  180.5   \n",
      "55  56  4.24   8.4  37.6  12.5    58  25.64  200.8   35.52  53.46  179.8   \n",
      "56  57  3.95   6.6  38.4  12.8    33  19.87   68.9   15.59  54.11  179.6   \n",
      "57  58  4.03   8.5  37.7  13.0    51  23.35  103.6   19.61  55.35  171.7   \n",
      "\n",
      "      wt sex    sport  \n",
      "35  59.9   f  Netball  \n",
      "36  63.0   f  Netball  \n",
      "37  66.3   f  Netball  \n",
      "38  60.7   f  Netball  \n",
      "39  72.9   f  Netball  \n",
      "40  67.9   f  Netball  \n",
      "41  67.5   f  Netball  \n",
      "42  74.1   f  Netball  \n",
      "43  68.2   f  Netball  \n",
      "44  68.8   f  Netball  \n",
      "45  75.3   f  Netball  \n",
      "46  67.4   f  Netball  \n",
      "47  70.0   f  Netball  \n",
      "48  74.0   f  Netball  \n",
      "49  51.9   f  Netball  \n",
      "50  74.1   f  Netball  \n",
      "51  74.3   f  Netball  \n",
      "52  77.8   f  Netball  \n",
      "53  66.9   f  Netball  \n",
      "54  83.8   f  Netball  \n",
      "55  82.9   f  Netball  \n",
      "56  64.1   f  Netball  \n",
      "57  68.8   f  Netball  \n",
      "      wt\n",
      "35  59.9\n",
      "36  63.0\n",
      "37  66.3\n",
      "38  60.7\n",
      "39  72.9\n",
      "40  67.9\n",
      "41  67.5\n",
      "42  74.1\n",
      "43  68.2\n",
      "44  68.8\n",
      "45  75.3\n",
      "46  67.4\n",
      "47  70.0\n",
      "48  74.0\n",
      "49  51.9\n",
      "50  74.1\n",
      "51  74.3\n",
      "52  77.8\n",
      "53  66.9\n",
      "54  83.8\n",
      "55  82.9\n",
      "56  64.1\n",
      "57  68.8\n",
      "      sport\n",
      "0    B_Ball\n",
      "1    B_Ball\n",
      "2    B_Ball\n",
      "3    B_Ball\n",
      "4    B_Ball\n",
      "..      ...\n",
      "196  W_Polo\n",
      "198  Tennis\n",
      "199  Tennis\n",
      "200  Tennis\n",
      "201  Tennis\n",
      "\n",
      "[181 rows x 1 columns]\n",
      "       sport\n",
      "0     B_Ball\n",
      "13       Row\n",
      "35   Netball\n",
      "58      Swim\n",
      "67     Field\n",
      "68    T_400m\n",
      "76   T_Sprnt\n",
      "89    Tennis\n",
      "96       Gym\n",
      "181   W_Polo\n"
     ]
    }
   ],
   "source": [
    "print(ais.iloc[2])\n",
    "print(ais.iloc[5:7])\n",
    "#ais[['ferr','bmi','ssf']]\n",
    "print(ais.iloc[:, 6:8])\n",
    "print(ais[['pcBfat']])\n",
    "print(ais.query(\"sport == 'Netball'\"))\n",
    "print(ais.query(\"sport == 'Netball'\")[['wt']])\n",
    "print(ais[ais.bmi < 26][['sport']])\n",
    "all_sport = ais[ais.bmi < 26][['sport']]\n",
    "print(all_sport.drop_duplicates())\n",
    "sport_type = CategoricalDtype(categories=['B_Ball', 'Field', 'Gym', 'Netball', 'Row', 'Swim', 'T_400m', 'T_Sprnt', 'Tennis', 'W_Polo'], ordered=True)\n",
    "ais.sport = ais.sport.astype(sport_type)"
   ],
   "metadata": {
    "collapsed": false,
    "pycharm": {
     "name": "#%%\n"
    }
   }
  },
  {
   "cell_type": "code",
   "execution_count": 8,
   "outputs": [
    {
     "data": {
      "text/plain": "<Figure size 432x288 with 1 Axes>",
      "image/png": "[encoded data removed]"
     },
     "metadata": {
      "needs_background": "light"
     },
     "output_type": "display_data"
    }
   ],
   "source": [
    "import seaborn as sns\n",
    "sns.countplot(data=ais, x='sport');"
   ],
   "metadata": {
    "collapsed": false,
    "pycharm": {
     "name": "#%%\n"
    }
   }
  },
  {
   "cell_type": "code",
   "execution_count": null,
   "outputs": [],
   "source": [],
   "metadata": {
    "collapsed": false,
    "pycharm": {
     "name": "#%%\n"
    }
   }
  }
 ],
 "metadata": {
  "language_info": {
   "name": "python"
  },
  "orig_nbformat": 4
 },
 "nbformat": 4,
 "nbformat_minor": 2
}