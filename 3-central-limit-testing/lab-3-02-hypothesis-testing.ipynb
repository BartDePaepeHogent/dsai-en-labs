{
 "cells": [
  {
   "cell_type": "markdown",
   "metadata": {
    "pycharm": {
     "name": "#%% md\n"
    }
   },
   "source": [
    "# Lab 3.02 - Statistical hypothesis testing\n",
    "\n",
    "## Exercise 1 - Binding recommendation on continuation of studies \n",
    "\n",
    "It is being said that introducing a “binding recommendation on continuation of studies” (refusing enrollment in the next academic year if a student did not complete a certain level of credits, NL: \"bindend studie-advies, BSA\") has a positive effect on the study efficiency and success rate. Before the introduction of binding recommendations, the number of completed credits per student per year was 44 with a standard deviation of 6.2. After the introduction, a sample of 72 random students has an average number of completed credits of 46.2.\n",
    "\n",
    "1. Test whether there is evidence that the introduction of binding recommendations has improved the success rate among students. Calculate the critical value for a significance level of $\\alpha = 2.5\\%$.\n",
    "2. Do the same by calculating the $p$-value.\n",
    "3. Interpret the meaning of $\\alpha$ being 2.5%."
   ]
  },
  {
   "cell_type": "code",
   "execution_count": 1,
   "metadata": {
    "pycharm": {
     "name": "#%%\n"
    }
   },
   "outputs": [],
   "source": [
    "import os.path\n",
    "\n",
    "import numpy as np                                  # \"Scientific computing\"\n",
    "import scipy.stats as stats                         # Statistical tests\n",
    "\n",
    "import pandas as pd                                 # Data Frame\n",
    "from pandas.api.types import CategoricalDtype\n",
    "\n",
    "import matplotlib.pyplot as plt                     # Basic visualisation\n",
    "from statsmodels.graphics.mosaicplot import mosaic  # Mosaic diagram\n",
    "import seaborn as sns                               # Advanced data visualisation"
   ]
  },
  {
   "cell_type": "markdown",
   "source": [
    "**Step 1.** Formulate the hypotheses:\n",
    "\n",
    "- $H_0: \\mu = 44$\n",
    "- $H_1: \\mu > 44$\n",
    "\n",
    "**Step 2.** Choose a significance level, e.g. $\\alpha = 0.025$"
   ],
   "metadata": {
    "collapsed": false,
    "pycharm": {
     "name": "#%% md\n"
    }
   }
  },
  {
   "cell_type": "code",
   "execution_count": 2,
   "outputs": [],
   "source": [
    "# Properties of the sample:\n",
    "n = 72      # sample size\n",
    "sm = 46.2  # sample mean\n",
    "s = 6.2    # population standard deviation (assumed to be known)\n",
    "a = 0.025    # significance level (chosen by the researcher)\n",
    "m0 = 44    # hypothetical population mean (H0)"
   ],
   "metadata": {
    "collapsed": false,
    "pycharm": {
     "name": "#%%\n"
    }
   }
  },
  {
   "cell_type": "markdown",
   "source": [
    "**Step 3.** Determine the value of the test statistic, in this case $\\overline{x} = 46.2$\n",
    "\n",
    "**Step 4.** Determine the $p$-value and reject $H_0$ if $p < \\alpha$."
   ],
   "metadata": {
    "collapsed": false,
    "pycharm": {
     "name": "#%% md\n"
    }
   }
  },
  {
   "cell_type": "code",
   "execution_count": 3,
   "outputs": [
    {
     "name": "stdout",
     "output_type": "stream",
     "text": [
      "Critical value g ≃ 45.432\n",
      "sample mean = 46.200 > g = 45.432: reject H0\n"
     ]
    }
   ],
   "source": [
    "g = stats.norm.isf(a, loc=m0, scale=s / np.sqrt(n)) #\n",
    "print(\"Critical value g ≃ %.3f\" % g)\n",
    "if (sm < g):\n",
    "    print(\"sample mean = %.3f < g = %.3f: do not reject H0\" % (sm, g))\n",
    "else:\n",
    "    print(\"sample mean = %.3f > g = %.3f: reject H0\" % (sm, g))"
   ],
   "metadata": {
    "collapsed": false,
    "pycharm": {
     "name": "#%%\n"
    }
   }
  },
  {
   "cell_type": "code",
   "execution_count": 4,
   "outputs": [
    {
     "name": "stdout",
     "output_type": "stream",
     "text": [
      "p-value: 0.00130\n",
      "p < a: reject H0\n"
     ]
    }
   ],
   "source": [
    "p = stats.norm.sf(sm, loc=m0, scale=s/np.sqrt(n))\n",
    "print(\"p-value: %.5f\" % p)\n",
    "if(p < a):\n",
    "    print(\"p < a: reject H0\")\n",
    "else:\n",
    "    print(\"p > a: do not reject H0\")"
   ],
   "metadata": {
    "collapsed": false,
    "pycharm": {
     "name": "#%%\n"
    }
   }
  },
  {
   "cell_type": "markdown",
   "metadata": {
    "pycharm": {
     "name": "#%% md\n"
    }
   },
   "source": [
    "\n",
    "### Answers\n",
    "\n",
    "1. $g \\approx 45.4 < x = 46.2$.\n",
    "\n",
    "    $x$ is inside the critical region, so we can reject the null hypothesis. Therefore, we can assume that binding recommendation on continuation of studies does increase the success rate.\n",
    "\n",
    "2. $P(M > 46.2) \\approx 0.0013 < \\alpha = 0.025$. The probability value is smaller than the significance level, so we can reject the null hypothesis.\n",
    "3. $\\alpha$ represents the probability of rejecting a true null hypothesis $H_0$. In other words, there is a 2.5% chance that you wrongly conclude that the success rate has increased."
   ]
  },
  {
   "cell_type": "markdown",
   "metadata": {
    "pycharm": {
     "name": "#%% md\n"
    }
   },
   "source": [
    "\n",
    "## Exercise 2 - Car dealers\n",
    "\n",
    "One of the motives for choosing a car dealership is the resale value of the previous car, or more specifically the price a dealer wants to pay for the old car when the customer buys a new one. The importer of Ford wants that all dealers implement the same price policy.\n",
    "\n",
    "The importer is of the opinion that the average price difference between the closest Ford dealer and the dealer where the old car was purchased should be at most €300. It is assumed that, if the difference is larger, potential customers will be more inclined to stay with their previous\n",
    "dealer.\n",
    "\n",
    "In a random sample, the following price differences are recorded:\n",
    "\n",
    "```\n",
    "[400, 350, 400, 500, 300, 350, 200,\n",
    " 500, 200, 250, 250, 500, 350, 100]\n",
    "```\n",
    "\n",
    "Test whether there is reason to assume that the average price difference in reality is significantly greater than €300, using a significance level of 5%."
   ]
  },
  {
   "cell_type": "markdown",
   "source": [
    "**Step 1.** Formulate the hypotheses:\n",
    "\n",
    "- $H_0: \\mu = 300$\n",
    "- $H_1: \\mu > 300$\n",
    "\n",
    "**Step 2.** Choose a significance level, e.g. $\\alpha = 0.05$"
   ],
   "metadata": {
    "collapsed": false,
    "pycharm": {
     "name": "#%% md\n"
    }
   }
  },
  {
   "cell_type": "code",
   "execution_count": 5,
   "outputs": [
    {
     "data": {
      "text/plain": "332.14285714285717"
     },
     "execution_count": 5,
     "metadata": {},
     "output_type": "execute_result"
    }
   ],
   "source": [
    "data = np.array([400, 350, 400, 500, 300, 350, 200,\n",
    " 500, 200, 250, 250, 500, 350, 100])\n",
    "# Properties of the sample:\n",
    "n = data.size      # sample size\n",
    "sm = data.mean()  # sample mean\n",
    "ss = data.std(ddof=1)   # sample(!) standard deviation\n",
    "a = 0.05    # significance level (chosen by the researcher)\n",
    "m0 = 300    # hypothetical population mean (H0)\n",
    "sm"
   ],
   "metadata": {
    "collapsed": false,
    "pycharm": {
     "name": "#%%\n"
    }
   }
  },
  {
   "cell_type": "markdown",
   "source": [
    "**Step 3.** Determine the value of the test statistic, in this case $\\overline{x} = 332.14$\n",
    "\n",
    "**Step 4.** Determine the $p$-value and reject $H_0$ if $p < \\alpha$."
   ],
   "metadata": {
    "collapsed": false,
    "pycharm": {
     "name": "#%% md\n"
    }
   }
  },
  {
   "cell_type": "code",
   "execution_count": 6,
   "outputs": [
    {
     "name": "stdout",
     "output_type": "stream",
     "text": [
      "Critical value g ≃ 358.417\n",
      "sample mean = 332.143 < g = 358.417: do not reject H0\n"
     ]
    }
   ],
   "source": [
    "g = stats.t.isf(a, loc=m0, scale=ss/np.sqrt(n), df=n-1)\n",
    "print(\"Critical value g ≃ %.3f\" % g)\n",
    "if (sm < g):\n",
    "    print(\"sample mean = %.3f < g = %.3f: do not reject H0\" % (sm, g))\n",
    "else:\n",
    "    print(\"sample mean = %.3f > g = %.3f: reject H0\" % (sm, g))"
   ],
   "metadata": {
    "collapsed": false,
    "pycharm": {
     "name": "#%%\n"
    }
   }
  },
  {
   "cell_type": "code",
   "execution_count": 7,
   "outputs": [
    {
     "name": "stdout",
     "output_type": "stream",
     "text": [
      "p-value: 0.17381\n",
      "p > a: do not reject H0\n"
     ]
    }
   ],
   "source": [
    "# Remark that we use the t-distribution here!\n",
    "p = p = stats.t.sf(sm, loc=m0, scale=ss/np.sqrt(n), df=n-1)\n",
    "print(\"p-value: %.5f\" % p)\n",
    "if(p < a):\n",
    "    print(\"p < a: reject H0\")\n",
    "else:\n",
    "    print(\"p > a: do not reject H0\")"
   ],
   "metadata": {
    "collapsed": false,
    "pycharm": {
     "name": "#%%\n"
    }
   }
  },
  {
   "cell_type": "markdown",
   "metadata": {
    "pycharm": {
     "name": "#%% md\n"
    }
   },
   "source": [
    "### Answers\n",
    "\n",
    "In this context ($n = 14 < 30$) the $z$-test cannot be used. Instead, we use Student’s $t$-test.\n",
    "\n",
    "- $x \\approx 332.143$\n",
    "- $s \\approx 123.424$\n",
    "- $g \\approx 358.42$. The sample mean is outside of the critical region, so we cannot reject $H_0$.\n",
    "- $p \\approx 0.1738$. $p \\nless \\alpha$ , so we cannot reject $H_0$. Based on this sample there is no reason to assume that the average price difference on the residual value of old cars is significantly higher than the amount recommended by the importer."
   ]
  },
  {
   "cell_type": "markdown",
   "metadata": {
    "pycharm": {
     "name": "#%% md\n"
    }
   },
   "source": [
    "## Exercise 3 - rlanders.csv, revisited\n",
    "\n",
    "The variable *Money* represents a gross annual salary (×100\\\\$). We assume this variable has a mean of $\\mu = 500$ with standard deviation $\\sigma = 98$. If we calculate the sample mean over the entire dataset (do this yourself!), it seems to support our assumptions. But what if we looked at\n",
    "men and women separately (variable *Gender*)?\n",
    "\n",
    "First, visualise this case by plotting a kernel density estimate of the variable *Money* over the entire dataset and split up according to *Gender*. Draw a vertical line for the assumed population mean and sample means.\n",
    "\n",
    "Use an appropriate statistical test to verify the statements below, usinge a significance level of $\\alpha = 5\\%$. For each statement, calculate the critical value(s) and the $p$-value.\n",
    "\n",
    "1. The average gross annual salary of men seems higher than the average. Is it also significantly higher?\n",
    "2. The average gross annual salary of women seems lower. Is it significantly lower?\n",
    "3. Calculate the region of acceptance for the average gross annual salary for the sample (men and women combined). In this case we want to verify if the sample mean is significantly different from the expected value, but it can be lower or higher.\n",
    "\n",
    "### Answers\n",
    "\n",
    "1. Sample mean: $\\overline{x} \\approx 507.535$, critical value: $g \\approx 511.456$, $p \\approx 0.1396$. We can **not** reject the null hypothesis. The gross annual income of men in this sample is not significantly higher than expected.\n",
    "2. Sample mean: $\\overline{x} \\approx 472.058$, critical value: $g \\approx 477.646$, $p \\approx 0.0199$. We can reject the null hypothesis. The gross annual income of women in this sample is significantly lower than expected.\n",
    "3. The acceptance region is the interval $[487.852, 512.148]$."
   ]
  },
  {
   "cell_type": "code",
   "execution_count": 8,
   "outputs": [
    {
     "name": "stdout",
     "output_type": "stream",
     "text": [
      "<class 'pandas.core.frame.DataFrame'>\n",
      "RangeIndex: 250 entries, 0 to 249\n",
      "Data columns (total 7 columns):\n",
      " #   Column  Non-Null Count  Dtype \n",
      "---  ------  --------------  ----- \n",
      " 0   ID      250 non-null    int64 \n",
      " 1   Gender  250 non-null    object\n",
      " 2   Money   250 non-null    int64 \n",
      " 3   Days    250 non-null    int64 \n",
      " 4   Months  250 non-null    int64 \n",
      " 5   Count   250 non-null    int64 \n",
      " 6   Survey  250 non-null    int64 \n",
      "dtypes: int64(6), object(1)\n",
      "memory usage: 13.8+ KB\n"
     ]
    }
   ],
   "source": [
    "rlanders = pd.read_csv(os.path.join('..','data','rlanders.csv'))\n",
    "rlanders.info()"
   ],
   "metadata": {
    "collapsed": false,
    "pycharm": {
     "name": "#%%\n"
    }
   }
  },
  {
   "cell_type": "code",
   "execution_count": 9,
   "outputs": [
    {
     "data": {
      "text/plain": "500.156"
     },
     "execution_count": 9,
     "metadata": {},
     "output_type": "execute_result"
    }
   ],
   "source": [
    "sm = np.mean(rlanders[\"Money\"])\n",
    "sm"
   ],
   "metadata": {
    "collapsed": false,
    "pycharm": {
     "name": "#%%\n"
    }
   }
  },
  {
   "cell_type": "code",
   "execution_count": 10,
   "outputs": [
    {
     "data": {
      "text/plain": "<matplotlib.lines.Line2D at 0x247e60641f0>"
     },
     "execution_count": 10,
     "metadata": {},
     "output_type": "execute_result"
    },
    {
     "data": {
      "text/plain": "<Figure size 432x288 with 1 Axes>",
      "image/png": "[encoded data removed]"
     },
     "metadata": {
      "needs_background": "light"
     },
     "output_type": "display_data"
    }
   ],
   "source": [
    "sns.kdeplot(x = rlanders[\"Money\"], hue=rlanders[\"Gender\"])\n",
    "plt.axvline(500, color=\"orange\", lw=2)\n",
    "plt.axvline(sm, color=\"green\", lw=2)"
   ],
   "metadata": {
    "collapsed": false,
    "pycharm": {
     "name": "#%%\n"
    }
   }
  },
  {
   "cell_type": "markdown",
   "source": [
    "$\\alpha = 0.05$"
   ],
   "metadata": {
    "collapsed": false,
    "pycharm": {
     "name": "#%% md\n"
    }
   }
  },
  {
   "cell_type": "code",
   "execution_count": 11,
   "outputs": [
    {
     "data": {
      "text/plain": "507.5353535353535"
     },
     "execution_count": 11,
     "metadata": {},
     "output_type": "execute_result"
    }
   ],
   "source": [
    "rlander_men = rlanders.where(rlanders[\"Gender\"] == \"Male\")\n",
    "sm_men = np.mean(rlanders[\"Money\"].where(rlanders[\"Gender\"] == \"Male\"))\n",
    "sm_men"
   ],
   "metadata": {
    "collapsed": false,
    "pycharm": {
     "name": "#%%\n"
    }
   }
  },
  {
   "cell_type": "code",
   "execution_count": 12,
   "outputs": [
    {
     "data": {
      "text/plain": "ID        198\nGender    198\nMoney     198\nDays      198\nMonths    198\nCount     198\nSurvey    198\ndtype: int64"
     },
     "execution_count": 12,
     "metadata": {},
     "output_type": "execute_result"
    }
   ],
   "source": [
    "rlander_men.dropna(inplace=True)\n",
    "rlander_men.count()"
   ],
   "metadata": {
    "collapsed": false,
    "pycharm": {
     "name": "#%%\n"
    }
   }
  },
  {
   "cell_type": "code",
   "execution_count": 13,
   "outputs": [
    {
     "name": "stdout",
     "output_type": "stream",
     "text": [
      "p-value: 0.13964\n",
      "p > a: do not reject H0\n"
     ]
    }
   ],
   "source": [
    "a = 0.05\n",
    "p = stats.norm.sf(sm_men, loc=500, scale=98/np.sqrt(198))\n",
    "print(\"p-value: %.5f\" % p)\n",
    "if(p < a):\n",
    "    print(\"p < a: reject H0\")\n",
    "else:\n",
    "    print(\"p > a: do not reject H0\")"
   ],
   "metadata": {
    "collapsed": false,
    "pycharm": {
     "name": "#%%\n"
    }
   }
  },
  {
   "cell_type": "code",
   "execution_count": 14,
   "outputs": [
    {
     "data": {
      "text/plain": "472.0576923076923"
     },
     "execution_count": 14,
     "metadata": {},
     "output_type": "execute_result"
    }
   ],
   "source": [
    "rlander_women = rlanders.where(rlanders[\"Gender\"] == \"Female\")\n",
    "sm_women = np.mean(rlanders[\"Money\"].where(rlanders[\"Gender\"] == \"Female\"))\n",
    "sm_women"
   ],
   "metadata": {
    "collapsed": false,
    "pycharm": {
     "name": "#%%\n"
    }
   }
  },
  {
   "cell_type": "code",
   "execution_count": 15,
   "outputs": [
    {
     "data": {
      "text/plain": "ID        52\nGender    52\nMoney     52\nDays      52\nMonths    52\nCount     52\nSurvey    52\ndtype: int64"
     },
     "execution_count": 15,
     "metadata": {},
     "output_type": "execute_result"
    }
   ],
   "source": [
    "rlander_women.dropna(inplace=True)\n",
    "rlander_women.count()"
   ],
   "metadata": {
    "collapsed": false,
    "pycharm": {
     "name": "#%%\n"
    }
   }
  },
  {
   "cell_type": "code",
   "execution_count": 16,
   "outputs": [
    {
     "name": "stdout",
     "output_type": "stream",
     "text": [
      "p-value: 0.01989\n",
      "p < a: reject H0\n"
     ]
    }
   ],
   "source": [
    "a = 0.05\n",
    "p = stats.norm.cdf(sm_women, loc=500, scale=98/np.sqrt(52))\n",
    "print(\"p-value: %.5f\" % p)\n",
    "if(p < a):\n",
    "    print(\"p < a: reject H0\")\n",
    "else:\n",
    "    print(\"p > a: do not reject H0\")"
   ],
   "metadata": {
    "collapsed": false,
    "pycharm": {
     "name": "#%%\n"
    }
   }
  },
  {
   "cell_type": "code",
   "execution_count": 17,
   "outputs": [
    {
     "data": {
      "text/plain": "1750"
     },
     "execution_count": 17,
     "metadata": {},
     "output_type": "execute_result"
    }
   ],
   "source": [
    "rlanders.size"
   ],
   "metadata": {
    "collapsed": false,
    "pycharm": {
     "name": "#%%\n"
    }
   }
  },
  {
   "cell_type": "code",
   "execution_count": 18,
   "outputs": [
    {
     "name": "stdout",
     "output_type": "stream",
     "text": [
      "Acceptance region [g1, g2] ≃ [487.852, 512.148]\n",
      "Sample mean = 500.156 is inside acceptance region: do not reject H0\n"
     ]
    }
   ],
   "source": [
    "g1 = 500 - stats.norm.isf(a/2) * 98 / np.sqrt(250)\n",
    "g2 = 500 + stats.norm.isf(a/2) * 98 / np.sqrt(250)\n",
    "\n",
    "print(\"Acceptance region [g1, g2] ≃ [%.3f, %.3f]\" % (g1,g2))\n",
    "if (g1 < sm and sm < g2):\n",
    "    print(\"Sample mean = %.3f is inside acceptance region: do not reject H0\" % sm)\n",
    "else:\n",
    "    print(\"Sample mean = %.3f is outside acceptance region: reject H0\" % sm)"
   ],
   "metadata": {
    "collapsed": false,
    "pycharm": {
     "name": "#%%\n"
    }
   }
  },
  {
   "cell_type": "code",
   "execution_count": 19,
   "outputs": [
    {
     "data": {
      "text/plain": "<matplotlib.collections.PolyCollection at 0x247ea2ab970>"
     },
     "execution_count": 19,
     "metadata": {},
     "output_type": "execute_result"
    },
    {
     "data": {
      "text/plain": "<Figure size 432x288 with 1 Axes>",
      "image/png": "[encoded data removed]"
     },
     "metadata": {
      "needs_background": "light"
     },
     "output_type": "display_data"
    }
   ],
   "source": [
    "# Gauss-curve\n",
    "# X-values\n",
    "dist_x = np.linspace(500 - 4 * 98/np.sqrt(1750), 500 + 4 * 98/np.sqrt(1750), num=201)\n",
    "# Y-values\n",
    "dist_y = stats.norm.pdf(dist_x, loc=500, scale=98/np.sqrt(1750))\n",
    "fig, dplot = plt.subplots(1, 1)\n",
    "# Plot\n",
    "dplot.plot(dist_x, dist_y)\n",
    "# Hypothetical population mean in orange\n",
    "dplot.axvline(500, color=\"orange\", lw=2)\n",
    "# Sample mean in red\n",
    "dplot.axvline(sm, color=\"red\")\n",
    "acc_x = np.linspace(g1, g2, num=101)\n",
    "acc_y = stats.norm.pdf(acc_x, loc=500, scale=98/np.sqrt(1750))\n",
    "# Fill the acceptance region in light blue\n",
    "dplot.fill_between(acc_x, 0, acc_y, color='lightblue')"
   ],
   "metadata": {
    "collapsed": false,
    "pycharm": {
     "name": "#%%\n"
    }
   }
  },
  {
   "cell_type": "code",
   "execution_count": null,
   "outputs": [],
   "source": [],
   "metadata": {
    "collapsed": false,
    "pycharm": {
     "name": "#%%\n"
    }
   }
  }
 ],
 "metadata": {
  "kernelspec": {
   "display_name": "Python 3",
   "language": "python",
   "name": "python3"
  },
  "language_info": {
   "codemirror_mode": {
    "name": "ipython",
    "version": 3
   },
   "file_extension": ".py",
   "mimetype": "text/x-python",
   "name": "python",
   "nbconvert_exporter": "python",
   "pygments_lexer": "ipython3",
   "version": "3.8.8"
  }
 },
 "nbformat": 4,
 "nbformat_minor": 2
}