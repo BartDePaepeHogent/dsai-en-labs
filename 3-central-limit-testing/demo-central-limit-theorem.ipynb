{
 "cells": [
  {
   "cell_type": "markdown",
   "metadata": {},
   "source": [
    "# Module 3 - The Central Limit Theorem\n",
    "\n",
    "In this file you will find Python code examples of how to deal with the concepts from the module *The Central Limit Theorem*. More specifically:\n",
    "\n",
    "- how to plot the **probability density function** of the **normal distribution**\n",
    "- how to plot a **histogram** of a sample with the theoretical probability distribution superimposed\n",
    "- how to **calculate probabilities** in the normal distribution\n",
    "- how to calculate **confidence intervals**"
   ]
  },
  {
   "cell_type": "code",
   "execution_count": null,
   "metadata": {},
   "outputs": [],
   "source": [
    "# Importing the necessary packages\n",
    "import numpy as np                                  # \"Scientific computing\"\n",
    "import scipy.stats as stats                         # Statistical tests\n",
    "\n",
    "import pandas as pd                                 # Data Frame\n",
    "from pandas.api.types import CategoricalDtype\n",
    "\n",
    "import matplotlib.pyplot as plt                     # Basic visualisation\n",
    "from statsmodels.graphics.mosaicplot import mosaic  # Mosaic diagram\n",
    "import seaborn as sns                               # Advanced data visualisation"
   ]
  },
  {
   "cell_type": "markdown",
   "metadata": {},
   "source": [
    "## The normal distribution\n",
    "\n",
    "### Plot of the normal distribution\n",
    "\n",
    "The standard normal distribution $Z \\sim Nor(\\mu = 0, \\sigma = 1)$ can be plotted as follows:"
   ]
  },
  {
   "cell_type": "code",
   "execution_count": null,
   "metadata": {},
   "outputs": [],
   "source": [
    "# Take 100 values for the X-axis, between -4 and 4, evenly spaced\n",
    "x = np.linspace(-4, +4, num=100)\n",
    "# Plot the probability density function (pdf) for these X-values\n",
    "plt.plot(x, stats.norm.pdf(x, 0, 1))"
   ]
  },
  {
   "cell_type": "markdown",
   "metadata": {},
   "source": [
    "We can generalize this code for the normal distribution. As an example we take $X \\sim Nor(\\mu = 5, \\sigma = 1.5)$. All points of interest on the Gauss curve are located at most 4 standard deviations left or right of the mean. Consequently, that's how we're going to calculate our x-values. The `pdf()`-function allows us to specify mean and standard deviation as parameters."
   ]
  },
  {
   "cell_type": "code",
   "execution_count": null,
   "metadata": {},
   "outputs": [],
   "source": [
    "m = 5000    # Gemiddelde\n",
    "s = 165     # Standaardafwijking\n",
    "x = np.linspace(m - 4 * s, m + 4 * s, num=201)\n",
    "plt.plot(x, stats.norm.pdf(x, m, s))"
   ]
  },
  {
   "cell_type": "markdown",
   "metadata": {},
   "source": [
    "The *shape* of this graph is identical to the one of the *standard* normal distribution, only the scale (both on the x- and y-axis) differs.\n",
    "\n",
    "### Histogram with theoretical probability density\n",
    "\n",
    "The next example shows how to plot a histogram of normally distributed data, with the theoretical probability density function superimposed as a line graph."
   ]
  },
  {
   "cell_type": "code",
   "execution_count": null,
   "metadata": {},
   "outputs": [],
   "source": [
    "# Generate 10000 random numbers, following a normal distribution\n",
    "n = 250\n",
    "observations = np.random.normal(loc=m, scale=s, size=n)\n",
    "\n",
    "# Plot histogram, without probability density\n",
    "obs_hist = sns.histplot(observations)"
   ]
  },
  {
   "cell_type": "markdown",
   "metadata": {},
   "source": [
    "If you plot a Gauss curve on the histogram above, you won't see much (try this for yourself!). After all, the scale on the y-axis for the Gauss curve is much smaller than that of the histogram (see the plot of a normal distribution above). The maximum value of a density function is always a number between 0 and 1 (since the area under the curve must be equal to 1), while a histogram counts how many times each observation occurs and consequently is usually larger than 1.\n",
    "\n",
    "The solution is to draw a histogram showing *densities*. In this case, the *area* of a member is equal to the *relative* frequency of that class. (The *density* or *density* is the *relative* frequency divided by the *width* of the class.) The sum of all areas of all bars is one. This corresponds to the area under the Gauss curve which is also equal to one. The histogram and the Gauss curve can then use the same y-axis."
   ]
  },
  {
   "cell_type": "code",
   "execution_count": null,
   "metadata": {},
   "outputs": [],
   "source": [
    "# histogram with observations\n",
    "obs_hist = sns.histplot(observations, stat = \"density\")\n",
    "# X-axis values\n",
    "dist_x = np.linspace(m - 4 * s, m + 4 * s, num=201)\n",
    "# Probability density for the X-values\n",
    "dist_y = stats.norm.pdf(dist_x, m, s)\n",
    "\n",
    "# Plot the Gayss curve superimposed on the histogram\n",
    "obs_hist.plot(dist_x, dist_y, 'red', lw=2)"
   ]
  },
  {
   "cell_type": "markdown",
   "metadata": {},
   "source": [
    "## Probability distribution in the normal distribution\n",
    "\n",
    "Assume Superman has a reaction speed with a normal distribution with mean 5 ms and standard deviation 1.5 ms."
   ]
  },
  {
   "cell_type": "code",
   "execution_count": null,
   "metadata": {},
   "outputs": [],
   "source": [
    "m = 5\n",
    "s = 1.5"
   ]
  },
  {
   "cell_type": "markdown",
   "metadata": {},
   "source": [
    "What is the probability that we observe a reaction speed larger than 6.5 ms? Mathematical notation: $P(X > 6.5)$"
   ]
  },
  {
   "cell_type": "code",
   "execution_count": null,
   "metadata": {},
   "outputs": [],
   "source": [
    "# First calculate the z-score\n",
    "x = 6.5\n",
    "z = (x - m) / s\n",
    "z"
   ]
  },
  {
   "cell_type": "markdown",
   "metadata": {},
   "source": [
    "In Python, you can use the SciPy-function `norm.cdf()` to calculate the *left tail* probability $P(X < x)$ or $P(Z < z)$ (also called the cumulative distribution). In order to calculate the *right tail* probability, we use the `norm.sf()` function (defined as `1 - cdf`, also called the *survival function*, hence the function name)"
   ]
  },
  {
   "cell_type": "code",
   "execution_count": null,
   "metadata": {},
   "outputs": [],
   "source": [
    "stats.norm.sf(z)"
   ]
  },
  {
   "cell_type": "markdown",
   "metadata": {},
   "source": [
    "We can also pass mean and standard deviation as parameters to `cdf()`:"
   ]
  },
  {
   "cell_type": "code",
   "execution_count": null,
   "metadata": {},
   "outputs": [],
   "source": [
    "stats.norm.sf(x, loc=m, scale=s)"
   ]
  },
  {
   "cell_type": "markdown",
   "metadata": {},
   "source": [
    "A graphical plot of this situation:"
   ]
  },
  {
   "cell_type": "code",
   "execution_count": null,
   "metadata": {},
   "outputs": [],
   "source": [
    "# Left tail probability plot\n",
    "\n",
    "# X-values\n",
    "dist_x = np.linspace(m - 4 * s, m + 4 * s, num=201)\n",
    "# Y-values for drawing the Gauss curve\n",
    "dist_y = stats.norm.pdf(dist_x, m, s)\n",
    "# Plot the Gauss-curve\n",
    "plt.plot(dist_x, dist_y)\n",
    "# Fill the area left of x\n",
    "plt.fill_between(dist_x, 0, dist_y, where=dist_x <= x, color='lightblue')\n",
    "# Show the mean with an orange line\n",
    "plt.axvline(m, color=\"orange\", lw=2)\n",
    "# Show x with a green line\n",
    "plt.axvline(x, color=\"green\")"
   ]
  },
  {
   "cell_type": "markdown",
   "metadata": {},
   "source": [
    "The left tail probability is the dark blue area in this plot.\n",
    "\n",
    "### More examples of probability calculations\n",
    "\n",
    "What is the probability of observing Superman's reaction speed to be:\n",
    "\n",
    "1. less than 4 ms?\n",
    "2. more than 7 ms?\n",
    "3. less than 3 ms?\n",
    "4. between 2 and 6.5 ms?"
   ]
  },
  {
   "cell_type": "code",
   "execution_count": null,
   "metadata": {},
   "outputs": [],
   "source": [
    "print(\"1. P(X < 4) ~= %.3f\" % stats.norm.cdf(4, loc=m, scale=s))\n",
    "print(\"2. P(X > 7) ~= %.3f\" % stats.norm.sf(7, loc=m, scale=s))\n",
    "print(\"3. P(X < 3) ~= %.3f\" % stats.norm.cdf(3, loc=m, scale=s))\n",
    "print(\"4. P(2 < X < 6.5) ~= %.3f\" % (stats.norm.cdf(6.5, loc=m, scale=s) - \n",
    "                                  stats.norm.cdf(2, loc=m, scale=s)))"
   ]
  },
  {
   "cell_type": "markdown",
   "metadata": {},
   "source": [
    "Another type of question: under what value will 80% of observations be?\n",
    "\n",
    "To calculate this we would need the inverse function of `cdf()`. However, it does not exist in SciPy. We do have the inverse function of `sf()`, though, which is called `isf()`. We can find the result by calculating the reaction time above which 20% of the values lie, which amounts to the same:"
   ]
  },
  {
   "cell_type": "code",
   "execution_count": null,
   "metadata": {},
   "outputs": [],
   "source": [
    "print(\"P(X < %.4f) ≃ 0.8\" % stats.norm.isf((1-.8), loc=m, scale=s))"
   ]
  },
  {
   "cell_type": "markdown",
   "metadata": {},
   "source": [
    "## Confidence intervals\n",
    "\n",
    "A confidence interval is an estimate in the form of an area within which you expect the unknown population mean to be with a certain level of confidence.\n",
    "\n",
    "Let's say we have *n* = 100 observations of Superman's reaction speed and we get a sample mean of 5.2 ms. We assume that we know the actual standard deviation of his reaction speed and that it is 1.5 ms.\n",
    "\n",
    "To determine a confidence interval, we proceed as follows:\n",
    "\n",
    "1. We take the sample mean as an initial estimate and choose a confidence level, eg $1 - \\alpha = 0.95$ (or 95%).\n",
    "2. We then find the $z$ score between which 95% of all values lie with a standard normal distribution.\n",
    "3. We use this to determine the values to the left and right of the sample mean between which we expect 95% of the values to fall for the probability distribution that we get from the *central limit theorem*."
   ]
  },
  {
   "cell_type": "code",
   "execution_count": null,
   "metadata": {},
   "outputs": [],
   "source": [
    "# Step 1.\n",
    "m = 5.2      # Sample mean\n",
    "s = 1.5      # Population standard deviation\n",
    "n = 100      # Sample size\n",
    "alpha = .05  # 1 - alpha is the confidence level\n",
    "\n",
    "# Step 2.\n",
    "z = stats.norm.isf(alpha/2)\n",
    "print(\"z-score: %.5f\" % z)\n",
    "\n",
    "# Step 3.\n",
    "lo = m - z * s / np.sqrt(n)\n",
    "hi = m + z * s / np.sqrt(n)\n",
    "print(\"Confidence interval: [%.4f, %.4f]\" % (lo, hi))"
   ]
  },
  {
   "cell_type": "markdown",
   "metadata": {},
   "source": [
    "We conclude with a confidence level of 95% that Superman's reaction speed is somewhere between 4.91 and 5.49 ms.\n",
    "\n",
    "## Confidence intervals for small samples\n",
    "\n",
    "When we have a small sample ($n < 30$), the assumption we made in the central limit theorem no longer holds. In that case we cannot use the normal distribution.\n",
    "\n",
    "However, there is still a way to construct a confidence interval via the so-called Student-$t$ distribution. This distribution resembles the normal distribution in that the probability density function looks like a Gauss curve. However, the Student-$t$ distribution also takes the sample size $n$ into account, so you must specify it. The density function gets an extra parameter called the number of *degrees of freedom* (abbreviated `df` of `dof`) and is equal to $n - 1$.\n",
    "\n",
    "The smaller the degrees of freedom, the \"flatter\" the curve and the wider the confidence intervals obtained will be. This represents the greater uncertainty we get because of the small sample size. The larger sample size $n$ is, the closer the curve will approach that of the normal distribution.\n",
    "\n",
    "In the graph below you will find the density function for the Student-$t$ distribution for different degrees of freedom:"
   ]
  },
  {
   "cell_type": "code",
   "execution_count": null,
   "metadata": {},
   "outputs": [],
   "source": [
    "x = np.linspace(-4, +4, num=100)\n",
    "fig, tplot = plt.subplots(1, 1)\n",
    "tplot.plot(x, stats.norm.pdf(x, 0, 1), label=\"Normal distribution\")\n",
    "tplot.plot(x, stats.t.pdf(x, 1), label=\"df=1\") \n",
    "tplot.plot(x, stats.t.pdf(x, 3), label=\"df=3\")\n",
    "tplot.plot(x, stats.t.pdf(x, 8), label=\"df=8\")\n",
    "tplot.plot(x, stats.t.pdf(x, 30), label=\"df=30\")\n",
    "tplot.legend(loc='best')"
   ]
  },
  {
   "cell_type": "markdown",
   "metadata": {},
   "source": [
    "To illustrate this, we repeat the earlier example , but assume that the sample size was only 15."
   ]
  },
  {
   "cell_type": "code",
   "execution_count": null,
   "metadata": {},
   "outputs": [],
   "source": [
    "# Step 1.\n",
    "m = 5.2      # Sample mean\n",
    "s = 1.5      # Population standard deviation\n",
    "n = 15       # Sample size\n",
    "alpha = .05  # 1 - alpha is the confidence level\n",
    "\n",
    "# Stap 2.\n",
    "t = stats.t.isf(alpha/2, df = n - 1)\n",
    "print(\"t-score: %.5f\" % t)\n",
    "\n",
    "# Stap 3.\n",
    "lo = m - t * s / np.sqrt(n)\n",
    "hi = m + t * s / np.sqrt(n)\n",
    "print(\"Confidence interval: [%.4f, %.4f]\" % (lo, hi))"
   ]
  },
  {
   "cell_type": "markdown",
   "metadata": {},
   "source": [
    "So we state with a confidence level of 95% that the reaction speed of the superheroes is between 4.37 and 6.03 ms.\n",
    "\n",
    "This interval is considerably wider than what we obtained with a larger sample. So we are less certain of the position of the population mean."
   ]
  }
 ],
 "metadata": {
  "kernelspec": {
   "display_name": "Python 3.9.1 64-bit",
   "metadata": {
    "interpreter": {
     "hash": "767d51c1340bd893661ea55ea3124f6de3c7a262a8b4abca0554b478b1e2ff90"
    }
   },
   "name": "python3"
  },
  "language_info": {
   "codemirror_mode": {
    "name": "ipython",
    "version": 3
   },
   "file_extension": ".py",
   "mimetype": "text/x-python",
   "name": "python",
   "nbconvert_exporter": "python",
   "pygments_lexer": "ipython3",
   "version": "3.10.0"
  },
  "orig_nbformat": 2
 },
 "nbformat": 4,
 "nbformat_minor": 2
}
