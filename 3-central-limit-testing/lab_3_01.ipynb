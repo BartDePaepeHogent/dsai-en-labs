{
  "cells": [
    {
      "cell_type": "markdown",
      "metadata": {
        "id": "M179_lET0jSn"
      },
      "source": [
        "# Lab 3.01 - The Central Limit Theorem\n",
        "\n",
        "Import all necessary Python libraries."
      ]
    },
    {
      "cell_type": "code",
      "execution_count": null,
      "metadata": {
        "id": "Lf3JZqC50jSq",
        "colab": {
          "base_uri": "https://localhost:8080/"
        },
        "outputId": "8c8bc187-0980-42e1-f6b6-65f1e8fdea4b"
      },
      "outputs": [
        {
          "output_type": "stream",
          "name": "stderr",
          "text": [
            "/usr/local/lib/python3.7/dist-packages/statsmodels/tools/_testing.py:19: FutureWarning: pandas.util.testing is deprecated. Use the functions in the public API at pandas.testing instead.\n",
            "  import pandas.util.testing as tm\n"
          ]
        }
      ],
      "source": [
        "# Importing the necessary packages\n",
        "import numpy as np                                  # \"Scientific computing\"\n",
        "import scipy.stats as stats                         # Statistical tests\n",
        "\n",
        "import pandas as pd                                 # Data Frame\n",
        "from pandas.api.types import CategoricalDtype\n",
        "\n",
        "import matplotlib.pyplot as plt                     # Basic visualisation\n",
        "from statsmodels.graphics.mosaicplot import mosaic  # Mosaic diagram\n",
        "import seaborn as sns                               # Advanced data visualisation\n",
        "import altair as alt    "
      ]
    },
    {
      "cell_type": "markdown",
      "source": [
        "## Probability theory\n",
        "\n",
        "### Exercise 1 - Probabilities for normal distributions\n",
        "Calculate the following  \n",
        "1. $P(Z < 1.33)$\n",
        "2. $P(Z > 1.33)$\n",
        "3. $P(Z < −1.33)$\n",
        "4. $P(Z > −1.33)$\n",
        "5. $P(Z < 0.45)$\n",
        "6. $P(Z > −1.05)$\n",
        "7. $P(Z < 0.65)$\n",
        "8. $P(−0.45 < Z < 1.20)$\n",
        "9. $P(−1.35 < Z < −0.10)$\n",
        "10. $P(−2.10 < Z < −0.90)$\n",
        "\n",
        "Answers\n",
        "\n",
        "1. P(Z < 1.33) ~= 0.908\n",
        "2. P(Z > 1.33) ~= 0.092\n",
        "3. P(Z < -1.33) ~= 0.092\n",
        "4. P(Z > -1.33) ~= 0.908\n",
        "5. P(Z < 0.45) ~= 0.674\n",
        "6. P(Z > -1.05) ~= 0.853\n",
        "7. P(Z < 0.65) ~= 0.742\n",
        "8. P(−0.45 < Z < 1.20) ~= 0.559\n",
        "9. P(−1.35 < Z < −0.10) ~= 0.372\n",
        "10. P(−2.10 < Z < −0.90) ~= 0.166\n",
        "\n"
      ],
      "metadata": {
        "id": "v1LnB5XV6Qgw"
      }
    },
    {
      "cell_type": "code",
      "source": [
        "m = 0\n",
        "s = 1\n",
        "\n"
      ],
      "metadata": {
        "id": "Kp8rYHlq6HxS"
      },
      "execution_count": null,
      "outputs": []
    },
    {
      "cell_type": "markdown",
      "source": [
        "### Exercise 2 - Plot probability density\n",
        "Make a graphical plot of the probability density function and the cumulative distribution function of a normal distribution with $\\mu = 2.5$ and $\\sigma = 1.5$.\n",
        "\n",
        "What is the area under the density function between  x=2.5  and  x=4 . (Answer = 0.750)"
      ],
      "metadata": {
        "id": "2HWolorG7O_w"
      }
    },
    {
      "cell_type": "code",
      "source": [
        ""
      ],
      "metadata": {
        "id": "YGX5c67rb-kq"
      },
      "execution_count": null,
      "outputs": []
    },
    {
      "cell_type": "markdown",
      "source": [
        "### Exercise 3 - Student t vs normal distribution\n",
        "Make a graphical plot of the probability density function and the cumulative distribution function for the Student's t-distribution with 3 degrees of freedom.  \n",
        "Also make a graphical plot of the standard normal distribution, so you can compare both."
      ],
      "metadata": {
        "id": "6N0AJfHf-pOC"
      }
    },
    {
      "cell_type": "code",
      "source": [
        ""
      ],
      "metadata": {
        "id": "XVsVkTIAjhKs"
      },
      "execution_count": null,
      "outputs": []
    },
    {
      "cell_type": "markdown",
      "source": [
        "### Exercise 4 - Theoretical vs real probability density\n",
        "Generate 25 random numbers distributed according to the standard normal distribution. Plot a histogram with probability density function and the theoretical probability density.  \n",
        "Do the same for 250 and 2500 numbers.   \n",
        "Notice how the real probability density approaches the theoretical one as the sample size increases."
      ],
      "metadata": {
        "id": "0Uf5X5APBiZ4"
      }
    },
    {
      "cell_type": "code",
      "source": [
        "\n"
      ],
      "metadata": {
        "id": "SV_ilcGDlo9K"
      },
      "execution_count": null,
      "outputs": []
    },
    {
      "cell_type": "markdown",
      "source": [
        "### Exercise 5 - Cholesterol \n",
        "A health survey between 1988 and 1994 indicated that the mean cholesterol value for women between the age of 20 and 29 was 183 mg/dl, with a standard deviation equal to 36. We now take a random sample of 81 women.\n",
        "\n",
        "1. Plot the probability distribution of the sample mean $\\overline{x}$.\n",
        "2. What is the probability of the sample mean being $\\overline{x} < 185$?\n",
        "3. What is the probability of $175 < \\overline{x} < 185$\n",
        "4. What is the probability of $\\overline{x} > 190$\n",
        "\n"
      ],
      "metadata": {
        "id": "T72qNs3YB8dr"
      }
    },
    {
      "cell_type": "code",
      "source": [
        ""
      ],
      "metadata": {
        "id": "c1LwGNApnU5E"
      },
      "execution_count": null,
      "outputs": []
    },
    {
      "cell_type": "markdown",
      "source": [
        "### Exercise 6\n",
        "A random sample of 64 is drawn from a population with unknown distribution. However, the expectation and standard deviation of the population are known: $\\mu = 20$ and $\\sigma = 16$.\n",
        "\n",
        "1. Plot the probability distribution of the sample mean.\n",
        "2. Calculate the z-score for $\\overline{x_1} = 15.5$ (Answer ≈ 2.28%) \n",
        "3. Calculate the z-score for $\\overline{x_2} = 23$ (Answer ≈ 6.68%).\n",
        "4. Determine the probability that 16 < $\\overline{x}$ < 22 (Answer ≈ 81.9%)\n"
      ],
      "metadata": {
        "id": "Fi6VU_gHEGGw"
      }
    },
    {
      "cell_type": "code",
      "source": [
        ""
      ],
      "metadata": {
        "id": "rkpO6V3pqpki"
      },
      "execution_count": null,
      "outputs": []
    },
    {
      "cell_type": "markdown",
      "source": [
        "## Confidence Intervals\n",
        "\n",
        "## Exercise 7 - rlanders\n",
        "1. Load the dataset data/rlanders.csv. \n",
        "2. We assume that the values from this sample are normally distributed around a population mean $\\mu$ that is unknown, but that the standard deviation of the population is known, i.e. $\\sigma = 98$.\n",
        "3. Calculate a 99% confidence interval for the population mean.\n",
        "4. Calculate a 95% confidence interval for the population mean.\n",
        "5. Suppose $\\sigma$ is unknown, calculate a 95% confidence interval for the population mean.\n",
        "6. Finally, suppose the sample consists of only the first 25 observations in this dataset. Calculate a 95% confidence interval for this situation."
      ],
      "metadata": {
        "id": "c0Q7INQrFUZK"
      }
    },
    {
      "cell_type": "code",
      "source": [
        ""
      ],
      "metadata": {
        "id": "OYu-BwS4G5d6"
      },
      "execution_count": null,
      "outputs": []
    },
    {
      "cell_type": "markdown",
      "source": [
        "## Exercise 8 - Service Level Agreement\n",
        "A web hosting company has a Service Level Agreement with a customer for a guaranteed uptime of \"five nines\" (99.999%). This is checked at the end of each year and if the minimum uptime is not met, the hosting company must pay a penalty.\n",
        "\n",
        "To measure the uptime, a monitoring system executes an HTTP GET / every minute and checks the result against the HTTP return code. In the month of January, there has been a single unsuccessful HTTP request.\n",
        "\n",
        "1. If this trend continues, what is the probability that the SLA will not be met by the end of the year? Use the formula for the probability distribution of a sample.\n",
        "2. The formula used is actually not appropriate in this particular case and gives a distorted picture. What could be the reason?"
      ],
      "metadata": {
        "id": "S13yFFnGGOsn"
      }
    },
    {
      "cell_type": "code",
      "source": [
        ""
      ],
      "metadata": {
        "id": "fWSbV7NGsK7F"
      },
      "execution_count": null,
      "outputs": []
    }
  ],
  "metadata": {
    "language_info": {
      "name": "python"
    },
    "orig_nbformat": 4,
    "colab": {
      "name": "lab-3-01.ipynb",
      "provenance": [],
      "collapsed_sections": []
    },
    "kernelspec": {
      "name": "python3",
      "display_name": "Python 3"
    }
  },
  "nbformat": 4,
  "nbformat_minor": 0
}